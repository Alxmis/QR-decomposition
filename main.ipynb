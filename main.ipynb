{
 "cells": [
  {
   "cell_type": "markdown",
   "source": [
    "# Libraries"
   ],
   "metadata": {
    "collapsed": false
   }
  },
  {
   "cell_type": "code",
   "execution_count": 113,
   "outputs": [],
   "source": [
    "import numpy as np\n",
    "import scipy.linalg as la"
   ],
   "metadata": {
    "collapsed": false,
    "ExecuteTime": {
     "end_time": "2023-05-27T13:59:33.200505100Z",
     "start_time": "2023-05-27T13:59:33.186500100Z"
    }
   }
  },
  {
   "cell_type": "markdown",
   "source": [
    "# Task for 4 - 5 points"
   ],
   "metadata": {
    "collapsed": false
   }
  },
  {
   "cell_type": "code",
   "execution_count": 114,
   "outputs": [],
   "source": [
    "def get_random_real_matrix(n: int, epsilon: float) -> np.array:\n",
    "    \"\"\"\n",
    "    This function returns a random real matrix with n rows and n columns.\n",
    "    Also, it has real eigen values.\n",
    "\n",
    "    :param n: rank of the matrix\n",
    "    :param epsilon: it is -min and max values in matrix\n",
    "    :return: np.array()\n",
    "    \"\"\"\n",
    "\n",
    "    des = np.random.randn(n)\n",
    "    s = np.diag(des)\n",
    "    q = la.qr(np.random.rand(n, n))[0]\n",
    "    result = q.T @ s @ q\n",
    "    return result\n",
    "\n",
    "def qr_algorithm(A, eps=1e-10, max_iter=1000):\n",
    "    n = A.shape[0]\n",
    "    Q, R = np.linalg.qr(A)\n",
    "    S = R @ Q\n",
    "    iter_count = 0\n",
    "    while iter_count < max_iter and not np.allclose(A, S, atol=eps):\n",
    "        A = S\n",
    "        Q, R = np.linalg.qr(A)\n",
    "        S = R @ Q\n",
    "        iter_count += 1\n",
    "    eigenvalues = np.diag(S)\n",
    "    return eigenvalues"
   ],
   "metadata": {
    "collapsed": false,
    "ExecuteTime": {
     "end_time": "2023-05-27T13:59:33.221500100Z",
     "start_time": "2023-05-27T13:59:33.199499800Z"
    }
   }
  },
  {
   "cell_type": "code",
   "execution_count": 115,
   "outputs": [
    {
     "data": {
      "text/plain": "array([[-0.15760005, -0.0566458 , -0.00715392, -0.0713411 , -0.06973394],\n       [-0.0566458 , -0.24736269, -0.17527891, -0.20949473, -0.1470991 ],\n       [-0.00715392, -0.17527891, -0.3957491 , -0.06983479, -0.04901721],\n       [-0.0713411 , -0.20949473, -0.06983479, -0.01656929,  0.19006966],\n       [-0.06973394, -0.1470991 , -0.04901721,  0.19006966, -0.081216  ]])"
     },
     "execution_count": 115,
     "metadata": {},
     "output_type": "execute_result"
    }
   ],
   "source": [
    "n = 5         # Size of the matrix\n",
    "epsilon = 10   # It is -min and max values in matrix\n",
    "\n",
    "matrix = get_random_real_matrix(n, epsilon)  # Generate random matrix\n",
    "#matrix = np.array([[1, 2, 3], [4, 5, 6], [7, 8, 9]])  # Test matrix\n",
    "matrix"
   ],
   "metadata": {
    "collapsed": false,
    "ExecuteTime": {
     "end_time": "2023-05-27T13:59:33.231501900Z",
     "start_time": "2023-05-27T13:59:33.215499900Z"
    }
   }
  },
  {
   "cell_type": "code",
   "execution_count": 116,
   "outputs": [
    {
     "name": "stdout",
     "output_type": "stream",
     "text": [
      "numpy`s eigenvalues: [ 0.27952 -0.59226 -0.10596 -0.23724 -0.24256]\n",
      "function`s eigenvalues: [-0.59226  0.27952 -0.24256 -0.23724 -0.10596]\n"
     ]
    }
   ],
   "source": [
    "print(f'numpy`s eigenvalues: {np.linalg.eigvals(matrix).round(5)}')\n",
    "print(f'function`s eigenvalues: {qr_algorithm(matrix, eps=1e-10, max_iter=1000).round(5)}')"
   ],
   "metadata": {
    "collapsed": false,
    "ExecuteTime": {
     "end_time": "2023-05-27T13:59:33.276955400Z",
     "start_time": "2023-05-27T13:59:33.232501200Z"
    }
   }
  },
  {
   "cell_type": "code",
   "execution_count": 117,
   "outputs": [],
   "source": [
    "del epsilon, n, qr_algorithm, get_random_real_matrix, la, matrix"
   ],
   "metadata": {
    "collapsed": false,
    "ExecuteTime": {
     "end_time": "2023-05-27T13:59:33.307202700Z",
     "start_time": "2023-05-27T13:59:33.276955400Z"
    }
   }
  },
  {
   "cell_type": "markdown",
   "source": [
    "# Task for 6 - 7"
   ],
   "metadata": {
    "collapsed": false
   }
  },
  {
   "cell_type": "code",
   "execution_count": 118,
   "outputs": [],
   "source": [
    "def qr_algorithm(A, eps=1e-10, max_iter=1000):\n",
    "    n = A.shape[0]\n",
    "    Q, R = np.linalg.qr(A)\n",
    "    S = R @ Q\n",
    "    iter_count = 0\n",
    "    while iter_count < max_iter and not np.allclose(A, S, atol=eps):\n",
    "        A = S\n",
    "        Q, R = np.linalg.qr(A)\n",
    "        S = R @ Q\n",
    "        iter_count += 1\n",
    "    eigenvalues = np.diag(S)\n",
    "    return eigenvalues"
   ],
   "metadata": {
    "collapsed": false,
    "ExecuteTime": {
     "end_time": "2023-05-27T13:59:33.312205300Z",
     "start_time": "2023-05-27T13:59:33.295203200Z"
    }
   }
  },
  {
   "cell_type": "code",
   "execution_count": 119,
   "outputs": [
    {
     "data": {
      "text/plain": "array([[ -7,   1,  -4,   5,   8],\n       [-10,   1,  -4,  -2,  -3],\n       [  0,   2,  -7,   7,  -5],\n       [ -9,   0,   9,   4,   2],\n       [ -7,   8,   8,   1,  -8]])"
     },
     "execution_count": 119,
     "metadata": {},
     "output_type": "execute_result"
    }
   ],
   "source": [
    "n = 5         # Size of the matrix\n",
    "epsilon = 10   # It is -min and max values in matrix\n",
    "\n",
    "matrix = np.random.randint(-epsilon, epsilon, size=(n, n))  # Generate random matrix\n",
    "matrix"
   ],
   "metadata": {
    "collapsed": false,
    "ExecuteTime": {
     "end_time": "2023-05-27T13:59:33.322225900Z",
     "start_time": "2023-05-27T13:59:33.309202600Z"
    }
   }
  },
  {
   "cell_type": "code",
   "execution_count": 120,
   "outputs": [
    {
     "name": "stdout",
     "output_type": "stream",
     "text": [
      "numpy`s eigenvalues: [  6.86626 +0.j       -1.58938+10.34571j  -1.58938-10.34571j\n",
      " -10.34375 +7.38637j -10.34375 -7.38637j]\n",
      "function`s eigenvalues: [-11.40454  -9.28297   2.42299  -5.60175   6.86626]\n"
     ]
    }
   ],
   "source": [
    "print(f'numpy`s eigenvalues: {np.linalg.eigvals(matrix).round(5)}')\n",
    "print(f'function`s eigenvalues: {qr_algorithm(matrix, eps=1e-10, max_iter=1000).round(5)}')"
   ],
   "metadata": {
    "collapsed": false,
    "ExecuteTime": {
     "end_time": "2023-05-27T13:59:33.387268400Z",
     "start_time": "2023-05-27T13:59:33.324226400Z"
    }
   }
  },
  {
   "cell_type": "code",
   "execution_count": 121,
   "outputs": [],
   "source": [
    "del epsilon, n, qr_algorithm, matrix"
   ],
   "metadata": {
    "collapsed": false,
    "ExecuteTime": {
     "end_time": "2023-05-27T13:59:33.420160200Z",
     "start_time": "2023-05-27T13:59:33.388263900Z"
    }
   }
  },
  {
   "cell_type": "markdown",
   "source": [
    "# Task for 8"
   ],
   "metadata": {
    "collapsed": false
   }
  },
  {
   "cell_type": "code",
   "execution_count": 138,
   "outputs": [],
   "source": [
    "def qr(A, hauseholder=True):\n",
    "    m, n = A.shape\n",
    "\n",
    "    if hauseholder:\n",
    "        Q = np.eye(m)\n",
    "        for i in range(n - (m == n)):\n",
    "            H = np.eye(m)\n",
    "            H[i:, i:] = make_householder(A[i:, i])\n",
    "            Q = np.dot(Q, H)\n",
    "            A = np.dot(H, A)\n",
    "    else:\n",
    "        Q, A = np.linalg.qr(A)\n",
    "    return Q, A\n",
    "\n",
    "def make_householder(a):\n",
    "    v = a / (a[0] + np.copysign(np.linalg.norm(a), a[0]))\n",
    "    v[0] = 1\n",
    "    H = np.eye(a.shape[0])\n",
    "    H -= (2 / np.dot(v, v)) * np.dot(v[:, None], v[None, :])\n",
    "    return H\n"
   ],
   "metadata": {
    "collapsed": false,
    "ExecuteTime": {
     "end_time": "2023-05-27T14:09:13.163570800Z",
     "start_time": "2023-05-27T14:09:13.148566Z"
    }
   }
  },
  {
   "cell_type": "code",
   "execution_count": 139,
   "outputs": [
    {
     "data": {
      "text/plain": "array([[1, 1],\n       [2, 1],\n       [3, 1]])"
     },
     "execution_count": 139,
     "metadata": {},
     "output_type": "execute_result"
    }
   ],
   "source": [
    "A = np.array([[1,2,3],[1,1,1]]).T\n",
    "A"
   ],
   "metadata": {
    "collapsed": false,
    "ExecuteTime": {
     "end_time": "2023-05-27T14:09:13.914131900Z",
     "start_time": "2023-05-27T14:09:13.893132100Z"
    }
   }
  },
  {
   "cell_type": "code",
   "execution_count": 140,
   "outputs": [
    {
     "data": {
      "text/plain": "(array([[-0.26726124,  0.87287156,  0.40824829],\n        [-0.53452248,  0.21821789, -0.81649658],\n        [-0.80178373, -0.43643578,  0.40824829]]),\n array([[-3.74165739e+00, -1.60356745e+00],\n        [-1.34739270e-16,  6.54653671e-01],\n        [-1.48002270e-16,  5.96776529e-18]]))"
     },
     "execution_count": 140,
     "metadata": {},
     "output_type": "execute_result"
    }
   ],
   "source": [
    "qr(A, hauseholder=True)"
   ],
   "metadata": {
    "collapsed": false,
    "ExecuteTime": {
     "end_time": "2023-05-27T14:09:25.284839200Z",
     "start_time": "2023-05-27T14:09:25.273835100Z"
    }
   }
  },
  {
   "cell_type": "code",
   "execution_count": null,
   "outputs": [],
   "source": [],
   "metadata": {
    "collapsed": false
   }
  }
 ],
 "metadata": {
  "kernelspec": {
   "display_name": "Python 3",
   "language": "python",
   "name": "python3"
  },
  "language_info": {
   "codemirror_mode": {
    "name": "ipython",
    "version": 2
   },
   "file_extension": ".py",
   "mimetype": "text/x-python",
   "name": "python",
   "nbconvert_exporter": "python",
   "pygments_lexer": "ipython2",
   "version": "2.7.6"
  }
 },
 "nbformat": 4,
 "nbformat_minor": 0
}

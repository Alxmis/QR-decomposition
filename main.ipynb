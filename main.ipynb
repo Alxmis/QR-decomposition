{
 "cells": [
  {
   "cell_type": "markdown",
   "source": [
    "# Libraries"
   ],
   "metadata": {
    "collapsed": false
   }
  },
  {
   "cell_type": "code",
   "execution_count": 62,
   "outputs": [],
   "source": [
    "import numpy as np\n",
    "import cmath\n",
    "import math"
   ],
   "metadata": {
    "collapsed": false,
    "ExecuteTime": {
     "end_time": "2023-06-05T18:42:46.098126500Z",
     "start_time": "2023-06-05T18:42:46.074123700Z"
    }
   }
  },
  {
   "cell_type": "markdown",
   "source": [
    "# Task for 6-7"
   ],
   "metadata": {
    "collapsed": false
   }
  },
  {
   "cell_type": "code",
   "execution_count": 78,
   "outputs": [],
   "source": [
    "def simple_qr(matrix: np.array) -> np.array:\n",
    "    q, r = np.linalg.qr(matrix)\n",
    "    for _ in range(1_000):\n",
    "        matrix = r @ q\n",
    "        q, r = np.linalg.qr(matrix)\n",
    "    return matrix\n",
    "\n",
    "def get_roots(matrix: np.array) -> np.array:\n",
    "    n = matrix.shape[0]\n",
    "    approximated = np.vstack([simple_qr(matrix), np.zeros(n)])\n",
    "    determinated = approximated.round(5)\n",
    "\n",
    "    roots = np.zeros(n)\n",
    "    i = 0\n",
    "    while i < n:\n",
    "        root = approximated[i][i]\n",
    "        detr = determinated[i+1][i]\n",
    "        if detr == 0:\n",
    "            roots[i] = root\n",
    "        else:\n",
    "            # select block\n",
    "            p = 1\n",
    "            for j in range(i+1, n):\n",
    "                if determinated[j+1][j] == 0:\n",
    "                    break\n",
    "                p += 1\n",
    "            block = approximated[i:i+p+1, i:i+p+1]\n",
    "            # p == 1 -> our target\n",
    "            if p == 1:\n",
    "                D = (block[1][1] + block[0][0])**2 - 4*(block[0][0]*block[1][1]-block[0][1]*block[1][0])\n",
    "                # convert type\n",
    "                if D < 0:\n",
    "                    roots = roots.astype(complex)\n",
    "                    l1 = (block[1][1] + block[0][0] - cmath.sqrt(D))/2\n",
    "                    l2 = (block[1][1] + block[0][0] + cmath.sqrt(D))/2\n",
    "                else:\n",
    "                    l1 = (block[1][1] + block[0][0] - math.sqrt(D))/2\n",
    "                    l2 = (block[1][1] + block[0][0] + math.sqrt(D))/2\n",
    "                roots[i + p - 1] = l1\n",
    "                roots[i + p - 0] = l2\n",
    "            # p != 1 -> not our target\n",
    "            else:\n",
    "                __roots = np.linalg.eigvals(block)\n",
    "                for j in range(p+1):\n",
    "                    roots[i + j] = __roots[j]\n",
    "            print(block)\n",
    "            i += p\n",
    "        i += 1\n",
    "    return roots\n"
   ],
   "metadata": {
    "collapsed": false,
    "ExecuteTime": {
     "end_time": "2023-06-05T18:49:24.605147600Z",
     "start_time": "2023-06-05T18:49:24.555535300Z"
    }
   }
  },
  {
   "cell_type": "code",
   "execution_count": 88,
   "outputs": [
    {
     "name": "stdout",
     "output_type": "stream",
     "text": [
      "Initial matrix:\n",
      "[[ 41 -33 -49]\n",
      " [-14   2  46]\n",
      " [ 24 -25  36]]\n",
      "Approximated matrix:\n",
      "[[ 56.25838  40.83786 -32.38817]\n",
      " [-57.29385  27.32262  -7.22314]\n",
      " [  0.        0.       -4.581  ]]\n",
      "[[ 56.25838306  40.83786075]\n",
      " [-57.29384956  27.32261503]]\n",
      "Function`s roots:\n",
      "[41.79049905-46.1566743j 41.79049905+46.1566743j -4.58099809 +0.j       ]\n",
      "True eigenvalues:\n",
      "[41.79049905+46.1566743j 41.79049905-46.1566743j -4.58099809 +0.j       ]\n"
     ]
    }
   ],
   "source": [
    "n = 3\n",
    "omega = 50\n",
    "\n",
    "matrix = np.random.randint(-omega, omega, (n, n))\n",
    "print(f\"Initial matrix:\\n{matrix}\")\n",
    "approximated_matrix = simple_qr(matrix)\n",
    "print(f\"Approximated matrix:\\n{approximated_matrix.round(5)}\")\n",
    "roots = get_roots(matrix)\n",
    "print(f\"Function`s roots:\\n{roots}\")\n",
    "eigen = np.linalg.eigvals(matrix)\n",
    "print(f\"True eigenvalues:\\n{eigen}\")"
   ],
   "metadata": {
    "collapsed": false,
    "ExecuteTime": {
     "end_time": "2023-06-05T19:01:22.669467100Z",
     "start_time": "2023-06-05T19:01:22.560563400Z"
    }
   }
  },
  {
   "cell_type": "markdown",
   "source": [
    "# Task for 8"
   ],
   "metadata": {
    "collapsed": false
   }
  },
  {
   "cell_type": "code",
   "execution_count": 95,
   "outputs": [],
   "source": [
    "def hauseholder_qr(A):\n",
    "    m, n = A.shape\n",
    "    Q = np.eye(m)\n",
    "    for i in range(n - (m == n)):\n",
    "        H = np.eye(m)\n",
    "        H[i:, i:] = make_householder(A[i:, i])\n",
    "        Q = np.dot(Q, H)\n",
    "        A = np.dot(H, A)\n",
    "    return Q, A\n",
    "\n",
    "def make_householder(a):\n",
    "    v = a / (a[0] + np.copysign(np.linalg.norm(a), a[0]))\n",
    "    v[0] = 1\n",
    "    H = np.eye(a.shape[0])\n",
    "    H -= (2 / np.dot(v, v)) * np.dot(v[:, None], v[None, :])\n",
    "    return H"
   ],
   "metadata": {
    "collapsed": false,
    "ExecuteTime": {
     "end_time": "2023-06-05T19:04:43.155525600Z",
     "start_time": "2023-06-05T19:04:43.140267900Z"
    }
   }
  },
  {
   "cell_type": "code",
   "execution_count": 96,
   "outputs": [],
   "source": [
    "q_h, r_h = hauseholder_qr(matrix)\n",
    "q, r = np.linalg.qr(matrix)"
   ],
   "metadata": {
    "collapsed": false,
    "ExecuteTime": {
     "end_time": "2023-06-05T19:04:43.477920900Z",
     "start_time": "2023-06-05T19:04:43.465919200Z"
    }
   }
  },
  {
   "cell_type": "code",
   "execution_count": 97,
   "outputs": [
    {
     "name": "stdout",
     "output_type": "stream",
     "text": [
      "Householder\n",
      "Q:[[-0.82781841  0.01020003 -0.56090341]\n",
      " [ 0.2826697  -0.85605216 -0.43274998]\n",
      " [-0.48457663 -0.5167888   0.7057725 ]]\n",
      "R:[[-4.95277700e+01  3.99977629e+01  3.61211498e+01]\n",
      " [-8.27939104e-16  1.08710149e+01 -5.84825973e+01]\n",
      " [ 1.57552734e-15  2.15124169e-17  3.29855779e+01]]\n",
      "Numpy\n",
      "Q:[[-0.82781841  0.01020003 -0.56090341]\n",
      " [ 0.2826697  -0.85605216 -0.43274998]\n",
      " [-0.48457663 -0.5167888   0.7057725 ]]\n",
      "R:[[-49.52776999  39.99776288  36.12114982]\n",
      " [  0.          10.87101488 -58.4825973 ]\n",
      " [  0.           0.          32.98557789]]\n"
     ]
    }
   ],
   "source": [
    "print(f'Householder\\nQ:{q_h}\\nR:{r_h}')\n",
    "print(f'Numpy\\nQ:{q}\\nR:{r}')"
   ],
   "metadata": {
    "collapsed": false,
    "ExecuteTime": {
     "end_time": "2023-06-05T19:04:44.523303300Z",
     "start_time": "2023-06-05T19:04:44.488775400Z"
    }
   }
  },
  {
   "cell_type": "code",
   "execution_count": 101,
   "outputs": [
    {
     "data": {
      "text/plain": "(array([[ True,  True,  True],\n        [ True,  True,  True],\n        [ True,  True,  True]]),\n array([[ True,  True,  True],\n        [ True,  True,  True],\n        [ True,  True,  True]]))"
     },
     "execution_count": 101,
     "metadata": {},
     "output_type": "execute_result"
    }
   ],
   "source": [
    "q_h.round(5) == q.round(5), r_h.round(5) == r.round(5)"
   ],
   "metadata": {
    "collapsed": false,
    "ExecuteTime": {
     "end_time": "2023-06-05T19:05:25.119766300Z",
     "start_time": "2023-06-05T19:05:25.104434300Z"
    }
   }
  },
  {
   "cell_type": "code",
   "execution_count": null,
   "outputs": [],
   "source": [],
   "metadata": {
    "collapsed": false
   }
  }
 ],
 "metadata": {
  "kernelspec": {
   "display_name": "Python 3",
   "language": "python",
   "name": "python3"
  },
  "language_info": {
   "codemirror_mode": {
    "name": "ipython",
    "version": 2
   },
   "file_extension": ".py",
   "mimetype": "text/x-python",
   "name": "python",
   "nbconvert_exporter": "python",
   "pygments_lexer": "ipython2",
   "version": "2.7.6"
  }
 },
 "nbformat": 4,
 "nbformat_minor": 0
}

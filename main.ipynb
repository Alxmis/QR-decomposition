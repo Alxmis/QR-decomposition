{
  "cells": [
    {
      "cell_type": "markdown",
      "metadata": {
        "id": "view-in-github",
        "colab_type": "text"
      },
      "source": [
        "<a href=\"https://colab.research.google.com/github/Alxmis/QR-decomposition/blob/Gram_Schmidt/main.ipynb\" target=\"_parent\"><img src=\"https://colab.research.google.com/assets/colab-badge.svg\" alt=\"Open In Colab\"/></a>"
      ]
    },
    {
      "cell_type": "markdown",
      "source": [
        "# Libraries"
      ],
      "metadata": {
        "collapsed": false,
        "id": "alFpzjOJneaZ"
      }
    },
    {
      "cell_type": "code",
      "execution_count": null,
      "outputs": [],
      "source": [
        "import numpy as np\n",
        "import cmath\n",
        "import math"
      ],
      "metadata": {
        "ExecuteTime": {
          "end_time": "2023-06-05T18:42:46.098126500Z",
          "start_time": "2023-06-05T18:42:46.074123700Z"
        },
        "id": "4KNU0f2Bneag"
      }
    },
    {
      "cell_type": "markdown",
      "source": [
        "# Task for 6-7"
      ],
      "metadata": {
        "collapsed": false,
        "id": "UARiDp2Mneaj"
      }
    },
    {
      "cell_type": "code",
      "execution_count": null,
      "outputs": [],
      "source": [
        "def simple_qr(matrix: np.array) -> np.array:\n",
        "    q, r = np.linalg.qr(matrix)\n",
        "    for _ in range(1_000):\n",
        "        matrix = r @ q\n",
        "        q, r = np.linalg.qr(matrix)\n",
        "    return matrix\n",
        "\n",
        "def get_roots(matrix: np.array) -> np.array:\n",
        "    n = matrix.shape[0]\n",
        "    approximated = np.vstack([simple_qr(matrix), np.zeros(n)])\n",
        "    determinated = approximated.round(5)\n",
        "\n",
        "    roots = np.zeros(n)\n",
        "    i = 0\n",
        "    while i < n:\n",
        "        root = approximated[i][i]\n",
        "        detr = determinated[i+1][i]\n",
        "        if detr == 0:\n",
        "            roots[i] = root\n",
        "        else:\n",
        "            # select block\n",
        "            p = 1\n",
        "            for j in range(i+1, n):\n",
        "                if determinated[j+1][j] == 0:\n",
        "                    break\n",
        "                p += 1\n",
        "            block = approximated[i:i+p+1, i:i+p+1]\n",
        "            # p == 1 -> our target\n",
        "            if p == 1:\n",
        "                D = (block[1][1] + block[0][0])**2 - 4*(block[0][0]*block[1][1]-block[0][1]*block[1][0])\n",
        "                # convert type\n",
        "                if D < 0:\n",
        "                    roots = roots.astype(complex)\n",
        "                    l1 = (block[1][1] + block[0][0] - cmath.sqrt(D))/2\n",
        "                    l2 = (block[1][1] + block[0][0] + cmath.sqrt(D))/2\n",
        "                else:\n",
        "                    l1 = (block[1][1] + block[0][0] - math.sqrt(D))/2\n",
        "                    l2 = (block[1][1] + block[0][0] + math.sqrt(D))/2\n",
        "                roots[i + p - 1] = l1\n",
        "                roots[i + p - 0] = l2\n",
        "            # p != 1 -> not our target\n",
        "            else:\n",
        "                __roots = np.linalg.eigvals(block)\n",
        "                for j in range(p+1):\n",
        "                    roots[i + j] = __roots[j]\n",
        "            print(block)\n",
        "            i += p\n",
        "        i += 1\n",
        "    return roots\n"
      ],
      "metadata": {
        "ExecuteTime": {
          "end_time": "2023-06-05T18:49:24.605147600Z",
          "start_time": "2023-06-05T18:49:24.555535300Z"
        },
        "id": "2tsm-wdineaj"
      }
    },
    {
      "cell_type": "code",
      "execution_count": null,
      "outputs": [
        {
          "output_type": "stream",
          "name": "stdout",
          "text": [
            "Initial matrix:\n",
            "[[-11  48 -45]\n",
            " [ 41 -33  48]\n",
            " [-36  33 -47]]\n",
            "Approximated matrix:\n",
            "[[-114.70652    9.74999   14.70338]\n",
            " [   0.        24.58932   -6.61426]\n",
            " [   0.         0.        -0.8828 ]]\n",
            "Function`s roots:\n",
            "[-114.70652013   24.58932483   -0.8828047 ]\n",
            "True eigenvalues:\n",
            "[-114.70652013   24.58932483   -0.8828047 ]\n"
          ]
        }
      ],
      "source": [
        "n = 3\n",
        "omega = 50\n",
        "\n",
        "matrix = np.random.randint(-omega, omega, (n, n))\n",
        "print(f\"Initial matrix:\\n{matrix}\")\n",
        "approximated_matrix = simple_qr(matrix)\n",
        "print(f\"Approximated matrix:\\n{approximated_matrix.round(5)}\")\n",
        "roots = get_roots(matrix)\n",
        "print(f\"Function`s roots:\\n{roots}\")\n",
        "eigen = np.linalg.eigvals(matrix)\n",
        "print(f\"True eigenvalues:\\n{eigen}\")"
      ],
      "metadata": {
        "ExecuteTime": {
          "end_time": "2023-06-05T19:01:22.669467100Z",
          "start_time": "2023-06-05T19:01:22.560563400Z"
        },
        "colab": {
          "base_uri": "https://localhost:8080/"
        },
        "id": "fH1rnL5Hneak",
        "outputId": "85c9228c-719d-4f3e-b354-35d877f5c239"
      }
    },
    {
      "cell_type": "markdown",
      "source": [
        "# Task for 8"
      ],
      "metadata": {
        "collapsed": false,
        "id": "Qa0Ks2x1neam"
      }
    },
    {
      "cell_type": "code",
      "execution_count": null,
      "outputs": [],
      "source": [
        "def hauseholder_qr(A):\n",
        "    m, n = A.shape\n",
        "    Q = np.eye(m)\n",
        "    for i in range(n - (m == n)):\n",
        "        H = np.eye(m)\n",
        "        H[i:, i:] = make_householder(A[i:, i])\n",
        "        Q = np.dot(Q, H)\n",
        "        A = np.dot(H, A)\n",
        "    return Q, A\n",
        "\n",
        "def make_householder(a):\n",
        "    v = a / (a[0] + np.copysign(np.linalg.norm(a), a[0]))\n",
        "    v[0] = 1\n",
        "    H = np.eye(a.shape[0])\n",
        "    H -= (2 / np.dot(v, v)) * np.dot(v[:, None], v[None, :])\n",
        "    return H"
      ],
      "metadata": {
        "ExecuteTime": {
          "end_time": "2023-06-05T19:04:43.155525600Z",
          "start_time": "2023-06-05T19:04:43.140267900Z"
        },
        "id": "hmsyBjoFneam"
      }
    },
    {
      "cell_type": "code",
      "execution_count": null,
      "outputs": [],
      "source": [
        "q_h, r_h = hauseholder_qr(matrix)\n",
        "q, r = np.linalg.qr(matrix)"
      ],
      "metadata": {
        "ExecuteTime": {
          "end_time": "2023-06-05T19:04:43.477920900Z",
          "start_time": "2023-06-05T19:04:43.465919200Z"
        },
        "id": "FPYAaOrGneam"
      }
    },
    {
      "cell_type": "code",
      "execution_count": null,
      "outputs": [
        {
          "name": "stdout",
          "output_type": "stream",
          "text": [
            "Householder\n",
            "Q:[[-0.82781841  0.01020003 -0.56090341]\n",
            " [ 0.2826697  -0.85605216 -0.43274998]\n",
            " [-0.48457663 -0.5167888   0.7057725 ]]\n",
            "R:[[-4.95277700e+01  3.99977629e+01  3.61211498e+01]\n",
            " [-8.27939104e-16  1.08710149e+01 -5.84825973e+01]\n",
            " [ 1.57552734e-15  2.15124169e-17  3.29855779e+01]]\n",
            "Numpy\n",
            "Q:[[-0.82781841  0.01020003 -0.56090341]\n",
            " [ 0.2826697  -0.85605216 -0.43274998]\n",
            " [-0.48457663 -0.5167888   0.7057725 ]]\n",
            "R:[[-49.52776999  39.99776288  36.12114982]\n",
            " [  0.          10.87101488 -58.4825973 ]\n",
            " [  0.           0.          32.98557789]]\n"
          ]
        }
      ],
      "source": [
        "print(f'Householder\\nQ:{q_h}\\nR:{r_h}')\n",
        "print(f'Numpy\\nQ:{q}\\nR:{r}')"
      ],
      "metadata": {
        "ExecuteTime": {
          "end_time": "2023-06-05T19:04:44.523303300Z",
          "start_time": "2023-06-05T19:04:44.488775400Z"
        },
        "id": "voJOSiECnean",
        "outputId": "7eb420fd-e2f7-4e4c-9d45-069525f66851"
      }
    },
    {
      "cell_type": "code",
      "execution_count": null,
      "outputs": [
        {
          "data": {
            "text/plain": "(array([[ True,  True,  True],\n        [ True,  True,  True],\n        [ True,  True,  True]]),\n array([[ True,  True,  True],\n        [ True,  True,  True],\n        [ True,  True,  True]]))"
          },
          "execution_count": 101,
          "metadata": {},
          "output_type": "execute_result"
        }
      ],
      "source": [
        "q_h.round(5) == q.round(5), r_h.round(5) == r.round(5)"
      ],
      "metadata": {
        "ExecuteTime": {
          "end_time": "2023-06-05T19:05:25.119766300Z",
          "start_time": "2023-06-05T19:05:25.104434300Z"
        },
        "id": "rzTeBGG5nean",
        "outputId": "48ea896f-be13-49aa-835c-c8d9953ecf57"
      }
    },
    {
      "cell_type": "code",
      "execution_count": null,
      "outputs": [],
      "source": [],
      "metadata": {
        "id": "C_1RikwLneao"
      }
    },
    {
      "cell_type": "markdown",
      "source": [
        "# Task for 10 Gram_Schmidt"
      ],
      "metadata": {
        "id": "5GFHpSxf46en"
      }
    },
    {
      "cell_type": "code",
      "source": [
        "def gram_orthon(matrix):\n",
        "    M = gram_orthog(matrix)\n",
        "    n_cols = M.shape[1]\n",
        "    for i in range(n_cols):\n",
        "        M[:, i] = M[:, i] / np.linalg.norm(M[:, i])\n",
        "    return M\n",
        "\n",
        "def gram_orthog(matrix):\n",
        "    n_rows, n_cols = matrix.shape\n",
        "    M = np.zeros((n_rows, n_cols))\n",
        "    for i in range(n_cols):\n",
        "        m = matrix[:, i].astype('float64')\n",
        "        for j in range(i):\n",
        "            m -= np.dot(m, M[:, j]) / np.dot(M[:, j], M[:, j]) * M[:, j]\n",
        "        M[:, i] = m\n",
        "    return M\n",
        "\n",
        "def gram_R(matrix, Q):\n",
        "    n_rows, n_cols = matrix.shape\n",
        "    R = np.zeros((n_rows, n_cols))\n",
        "    for j in range(n_cols):\n",
        "        for i in range(j + 1):\n",
        "            R[i, j] = np.dot(Q[:, i], matrix[:, j])\n",
        "    return R\n",
        "\n",
        "def gram_qr(matrix):\n",
        "  Q = gram_orthon(matrix)\n",
        "  R = gram_R(matrix, Q)\n",
        "  return Q, R"
      ],
      "metadata": {
        "id": "5WeLiMameTxt"
      },
      "execution_count": null,
      "outputs": []
    },
    {
      "cell_type": "code",
      "source": [
        "q_g, r_g = gram_qr(matrix)\n",
        "q, r = np.linalg.qr(matrix)"
      ],
      "metadata": {
        "id": "xjre8cMIeZYM"
      },
      "execution_count": null,
      "outputs": []
    },
    {
      "cell_type": "code",
      "source": [
        "print(f'Gram\\nQ:{q_g}\\nR:{r_g}\\nQR:{q_g@r_g}')\n",
        "print(f'Numpy\\nQ:{q}\\nR:{r}\\nqr:{q@r}')"
      ],
      "metadata": {
        "colab": {
          "base_uri": "https://localhost:8080/"
        },
        "id": "_ctkhdQviZwv",
        "outputId": "3f11ea04-c661-415d-c822-08f8dd6b5019"
      },
      "execution_count": null,
      "outputs": [
        {
          "output_type": "stream",
          "name": "stdout",
          "text": [
            "Gram\n",
            "Q:[[ 0.82781841  0.01020003 -0.56090341]\n",
            " [-0.2826697  -0.85605216 -0.43274998]\n",
            " [ 0.48457663 -0.5167888   0.7057725 ]]\n",
            "R:[[ 49.52776999 -39.99776288 -36.12114982]\n",
            " [  0.          10.87101488 -58.4825973 ]\n",
            " [  0.           0.          32.98557789]]\n",
            "QR:[[ 41. -33. -49.]\n",
            " [-14.   2.  46.]\n",
            " [ 24. -25.  36.]]\n",
            "Numpy\n",
            "Q:[[-0.82781841  0.01020003 -0.56090341]\n",
            " [ 0.2826697  -0.85605216 -0.43274998]\n",
            " [-0.48457663 -0.5167888   0.7057725 ]]\n",
            "R:[[-49.52776999  39.99776288  36.12114982]\n",
            " [  0.          10.87101488 -58.4825973 ]\n",
            " [  0.           0.          32.98557789]]\n",
            "qr:[[ 41. -33. -49.]\n",
            " [-14.   2.  46.]\n",
            " [ 24. -25.  36.]]\n"
          ]
        }
      ]
    }
  ],
  "metadata": {
    "kernelspec": {
      "display_name": "Python 3",
      "language": "python",
      "name": "python3"
    },
    "language_info": {
      "codemirror_mode": {
        "name": "ipython",
        "version": 2
      },
      "file_extension": ".py",
      "mimetype": "text/x-python",
      "name": "python",
      "nbconvert_exporter": "python",
      "pygments_lexer": "ipython2",
      "version": "2.7.6"
    },
    "colab": {
      "provenance": [],
      "include_colab_link": true
    }
  },
  "nbformat": 4,
  "nbformat_minor": 0
}
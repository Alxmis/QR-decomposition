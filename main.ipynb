{
 "cells": [
  {
   "cell_type": "markdown",
   "metadata": {
    "id": "view-in-github",
    "colab_type": "text"
   },
   "source": [
    "<a href=\"https://colab.research.google.com/github/Alxmis/QR-decomposition/blob/Gram_Schmidt/main.ipynb\" target=\"_parent\"><img src=\"https://colab.research.google.com/assets/colab-badge.svg\" alt=\"Open In Colab\"/></a>"
   ]
  },
  {
   "cell_type": "markdown",
   "source": [
    "# Libraries"
   ],
   "metadata": {
    "collapsed": false,
    "id": "alFpzjOJneaZ"
   }
  },
  {
   "cell_type": "code",
   "execution_count": 2,
   "outputs": [],
   "source": [
    "import numpy as np\n",
    "import cmath\n",
    "import math"
   ],
   "metadata": {
    "id": "4KNU0f2Bneag",
    "ExecuteTime": {
     "end_time": "2023-06-06T15:46:14.980649800Z",
     "start_time": "2023-06-06T15:46:14.854906600Z"
    }
   }
  },
  {
   "cell_type": "markdown",
   "source": [
    "# Task for 6-7"
   ],
   "metadata": {
    "collapsed": false,
    "id": "UARiDp2Mneaj"
   }
  },
  {
   "cell_type": "code",
   "execution_count": 3,
   "outputs": [],
   "source": [
    "def simple_qr(matrix: np.array) -> np.array:\n",
    "    q, r = np.linalg.qr(matrix)\n",
    "    for _ in range(1_000):\n",
    "        matrix = r @ q\n",
    "        q, r = np.linalg.qr(matrix)\n",
    "    return matrix\n",
    "\n",
    "def get_roots(matrix: np.array) -> np.array:\n",
    "    n = matrix.shape[0]\n",
    "    approximated = np.vstack([simple_qr(matrix), np.zeros(n)])\n",
    "    determinated = approximated.round(5)\n",
    "\n",
    "    roots = np.zeros(n)\n",
    "    i = 0\n",
    "    while i < n:\n",
    "        root = approximated[i][i]\n",
    "        detr = determinated[i+1][i]\n",
    "        if detr == 0:\n",
    "            roots[i] = root\n",
    "        else:\n",
    "            # select block\n",
    "            p = 1\n",
    "            for j in range(i+1, n):\n",
    "                if determinated[j+1][j] == 0:\n",
    "                    break\n",
    "                p += 1\n",
    "            block = approximated[i:i+p+1, i:i+p+1]\n",
    "            # p == 1 -> our target\n",
    "            if p == 1:\n",
    "                D = (block[1][1] + block[0][0])**2 - 4*(block[0][0]*block[1][1]-block[0][1]*block[1][0])\n",
    "                # convert type\n",
    "                if D < 0:\n",
    "                    roots = roots.astype(complex)\n",
    "                    l1 = (block[1][1] + block[0][0] - cmath.sqrt(D))/2\n",
    "                    l2 = (block[1][1] + block[0][0] + cmath.sqrt(D))/2\n",
    "                else:\n",
    "                    l1 = (block[1][1] + block[0][0] - math.sqrt(D))/2\n",
    "                    l2 = (block[1][1] + block[0][0] + math.sqrt(D))/2\n",
    "                roots[i + p - 1] = l1\n",
    "                roots[i + p - 0] = l2\n",
    "            # p != 1 -> not our target\n",
    "            else:\n",
    "                __roots = np.linalg.eigvals(block)\n",
    "                for j in range(p+1):\n",
    "                    roots[i + j] = __roots[j]\n",
    "            print(block)\n",
    "            i += p\n",
    "        i += 1\n",
    "    return roots\n"
   ],
   "metadata": {
    "id": "2tsm-wdineaj",
    "ExecuteTime": {
     "end_time": "2023-06-06T15:46:15.013819200Z",
     "start_time": "2023-06-06T15:46:14.979649800Z"
    }
   }
  },
  {
   "cell_type": "code",
   "execution_count": 4,
   "outputs": [
    {
     "name": "stdout",
     "output_type": "stream",
     "text": [
      "Initial matrix:\n",
      "[[  2 -13  38]\n",
      " [-28  40 -26]\n",
      " [-16 -27 -45]]\n",
      "Approximated matrix:\n",
      "[[ 56.13335  -8.41931  17.21504]\n",
      " [  0.      -27.16517  48.93792]\n",
      " [  0.       -3.73805 -31.96818]]\n",
      "[[-27.16516969  48.93791817]\n",
      " [ -3.73804964 -31.9681846 ]]\n",
      "Function`s roots:\n",
      "[ 56.13335429 +0.j         -29.56667715-13.31033919j\n",
      " -29.56667715+13.31033919j]\n",
      "True eigenvalues:\n",
      "[-29.56667715+13.31033919j -29.56667715-13.31033919j\n",
      "  56.13335429 +0.j        ]\n"
     ]
    }
   ],
   "source": [
    "n = 3\n",
    "omega = 50\n",
    "\n",
    "matrix = np.random.randint(-omega, omega, (n, n))\n",
    "print(f\"Initial matrix:\\n{matrix}\")\n",
    "approximated_matrix = simple_qr(matrix)\n",
    "print(f\"Approximated matrix:\\n{approximated_matrix.round(5)}\")\n",
    "roots = get_roots(matrix)\n",
    "print(f\"Function`s roots:\\n{roots}\")\n",
    "eigen = np.linalg.eigvals(matrix)\n",
    "print(f\"True eigenvalues:\\n{eigen}\")"
   ],
   "metadata": {
    "colab": {
     "base_uri": "https://localhost:8080/"
    },
    "id": "fH1rnL5Hneak",
    "outputId": "85c9228c-719d-4f3e-b354-35d877f5c239",
    "ExecuteTime": {
     "end_time": "2023-06-06T15:46:15.108823300Z",
     "start_time": "2023-06-06T15:46:15.011819200Z"
    }
   }
  },
  {
   "cell_type": "markdown",
   "source": [
    "# Task for 8"
   ],
   "metadata": {
    "collapsed": false,
    "id": "Qa0Ks2x1neam"
   }
  },
  {
   "cell_type": "code",
   "execution_count": 5,
   "outputs": [],
   "source": [
    "def hauseholder_qr(A):\n",
    "    m, n = A.shape\n",
    "    Q = np.eye(m)\n",
    "    for i in range(n - (m == n)):\n",
    "        H = np.eye(m)\n",
    "        H[i:, i:] = make_householder(A[i:, i])\n",
    "        Q = np.dot(Q, H)\n",
    "        A = np.dot(H, A)\n",
    "    return Q, A\n",
    "\n",
    "def make_householder(a):\n",
    "    v = a / (a[0] + np.copysign(np.linalg.norm(a), a[0]))\n",
    "    v[0] = 1\n",
    "    H = np.eye(a.shape[0])\n",
    "    H -= (2 / np.dot(v, v)) * np.dot(v[:, None], v[None, :])\n",
    "    return H"
   ],
   "metadata": {
    "id": "hmsyBjoFneam",
    "ExecuteTime": {
     "end_time": "2023-06-06T15:46:15.159823600Z",
     "start_time": "2023-06-06T15:46:15.106823900Z"
    }
   }
  },
  {
   "cell_type": "code",
   "execution_count": 6,
   "outputs": [],
   "source": [
    "q_h, r_h = hauseholder_qr(matrix)\n",
    "q, r = np.linalg.qr(matrix)"
   ],
   "metadata": {
    "id": "FPYAaOrGneam",
    "ExecuteTime": {
     "end_time": "2023-06-06T15:46:15.217587500Z",
     "start_time": "2023-06-06T15:46:15.153823500Z"
    }
   }
  },
  {
   "cell_type": "code",
   "execution_count": 7,
   "outputs": [
    {
     "name": "stdout",
     "output_type": "stream",
     "text": [
      "Householder\n",
      "Q:[[-0.06189845  0.25947574  0.96376393]\n",
      " [ 0.86657824 -0.4651077   0.18087833]\n",
      " [ 0.49518757  0.84637295 -0.19606659]]\n",
      "R:[[-3.23109888e+01  2.20977452e+01 -4.71666159e+01]\n",
      " [ 5.93260382e-16 -4.48295623e+01 -1.61339042e+01]\n",
      " [ 4.74605187e-15  5.16632561e-15  4.07431894e+01]]\n",
      "Numpy\n",
      "Q:[[-0.06189845  0.25947574  0.96376393]\n",
      " [ 0.86657824 -0.4651077   0.18087833]\n",
      " [ 0.49518757  0.84637295 -0.19606659]]\n",
      "R:[[-32.31098884  22.09774524 -47.1666159 ]\n",
      " [  0.         -44.82956229 -16.13390417]\n",
      " [  0.           0.          40.74318938]]\n"
     ]
    }
   ],
   "source": [
    "print(f'Householder\\nQ:{q_h}\\nR:{r_h}')\n",
    "print(f'Numpy\\nQ:{q}\\nR:{r}')"
   ],
   "metadata": {
    "id": "voJOSiECnean",
    "outputId": "7eb420fd-e2f7-4e4c-9d45-069525f66851",
    "ExecuteTime": {
     "end_time": "2023-06-06T15:46:15.296657400Z",
     "start_time": "2023-06-06T15:46:15.216587400Z"
    }
   }
  },
  {
   "cell_type": "code",
   "execution_count": 8,
   "outputs": [
    {
     "data": {
      "text/plain": "(array([[ True,  True,  True],\n        [ True,  True,  True],\n        [ True,  True,  True]]),\n array([[ True,  True,  True],\n        [ True,  True,  True],\n        [ True,  True,  True]]))"
     },
     "execution_count": 8,
     "metadata": {},
     "output_type": "execute_result"
    }
   ],
   "source": [
    "q_h.round(5) == q.round(5), r_h.round(5) == r.round(5)"
   ],
   "metadata": {
    "id": "rzTeBGG5nean",
    "outputId": "48ea896f-be13-49aa-835c-c8d9953ecf57",
    "ExecuteTime": {
     "end_time": "2023-06-06T15:46:15.360657800Z",
     "start_time": "2023-06-06T15:46:15.297657300Z"
    }
   }
  },
  {
   "cell_type": "markdown",
   "source": [
    "# Task for 10 Gram_Schmidt"
   ],
   "metadata": {
    "id": "5GFHpSxf46en"
   }
  },
  {
   "cell_type": "code",
   "source": [
    "def gram_orthon(matrix):\n",
    "    M = gram_orthog(matrix)\n",
    "    n_cols = M.shape[1]\n",
    "    for i in range(n_cols):\n",
    "        M[:, i] = M[:, i] / np.linalg.norm(M[:, i])\n",
    "    return M\n",
    "\n",
    "def gram_orthog(matrix):\n",
    "    n_rows, n_cols = matrix.shape\n",
    "    M = np.zeros((n_rows, n_cols))\n",
    "    for i in range(n_cols):\n",
    "        m = matrix[:, i].astype('float64')\n",
    "        for j in range(i):\n",
    "            m -= np.dot(m, M[:, j]) / np.dot(M[:, j], M[:, j]) * M[:, j]\n",
    "        M[:, i] = m\n",
    "    return M\n",
    "\n",
    "def gram_R(matrix, Q):\n",
    "    n_rows, n_cols = matrix.shape\n",
    "    R = np.zeros((n_rows, n_cols))\n",
    "    for j in range(n_cols):\n",
    "        for i in range(j + 1):\n",
    "            R[i, j] = np.dot(Q[:, i], matrix[:, j])\n",
    "    return R\n",
    "\n",
    "def gram_qr(matrix):\n",
    "  Q = gram_orthon(matrix)\n",
    "  R = gram_R(matrix, Q)\n",
    "  return Q, R"
   ],
   "metadata": {
    "id": "5WeLiMameTxt",
    "ExecuteTime": {
     "end_time": "2023-06-06T15:46:15.426133500Z",
     "start_time": "2023-06-06T15:46:15.378132700Z"
    }
   },
   "execution_count": 9,
   "outputs": []
  },
  {
   "cell_type": "code",
   "source": [
    "q_g, r_g = gram_qr(matrix)\n",
    "q, r = np.linalg.qr(matrix)"
   ],
   "metadata": {
    "id": "xjre8cMIeZYM",
    "ExecuteTime": {
     "end_time": "2023-06-06T15:46:15.750199300Z",
     "start_time": "2023-06-06T15:46:15.425133900Z"
    }
   },
   "execution_count": 10,
   "outputs": []
  },
  {
   "cell_type": "code",
   "source": [
    "print(f'Gram\\nQ:{q_g}\\nR:{r_g}\\nQR:{q_g@r_g}')\n",
    "print(f'Numpy\\nQ:{q}\\nR:{r}\\nqr:{q@r}')"
   ],
   "metadata": {
    "colab": {
     "base_uri": "https://localhost:8080/"
    },
    "id": "_ctkhdQviZwv",
    "outputId": "3f11ea04-c661-415d-c822-08f8dd6b5019",
    "ExecuteTime": {
     "end_time": "2023-06-06T15:46:15.871930700Z",
     "start_time": "2023-06-06T15:46:15.751199Z"
    }
   },
   "execution_count": 11,
   "outputs": [
    {
     "name": "stdout",
     "output_type": "stream",
     "text": [
      "Gram\n",
      "Q:[[ 0.06189845 -0.25947574  0.96376393]\n",
      " [-0.86657824  0.4651077   0.18087833]\n",
      " [-0.49518757 -0.84637295 -0.19606659]]\n",
      "R:[[ 32.31098884 -22.09774524  47.1666159 ]\n",
      " [  0.          44.82956229  16.13390417]\n",
      " [  0.           0.          40.74318938]]\n",
      "QR:[[  2. -13.  38.]\n",
      " [-28.  40. -26.]\n",
      " [-16. -27. -45.]]\n",
      "Numpy\n",
      "Q:[[-0.06189845  0.25947574  0.96376393]\n",
      " [ 0.86657824 -0.4651077   0.18087833]\n",
      " [ 0.49518757  0.84637295 -0.19606659]]\n",
      "R:[[-32.31098884  22.09774524 -47.1666159 ]\n",
      " [  0.         -44.82956229 -16.13390417]\n",
      " [  0.           0.          40.74318938]]\n",
      "qr:[[  2. -13.  38.]\n",
      " [-28.  40. -26.]\n",
      " [-16. -27. -45.]]\n"
     ]
    }
   ]
  },
  {
   "cell_type": "markdown",
   "source": [
    "# Multihreading"
   ],
   "metadata": {
    "collapsed": false
   }
  },
  {
   "cell_type": "code",
   "execution_count": 12,
   "outputs": [],
   "source": [
    "import threading"
   ],
   "metadata": {
    "collapsed": false,
    "ExecuteTime": {
     "end_time": "2023-06-06T15:46:15.934355500Z",
     "start_time": "2023-06-06T15:46:14.845746200Z"
    }
   }
  },
  {
   "cell_type": "code",
   "execution_count": 64,
   "outputs": [],
   "source": [
    "cache = {}\n",
    "\n",
    "def column(a: np.array, i: int) -> np.array:\n",
    "    return np.array([x[i] for x in a])\n",
    "\n",
    "def row(a: np.array, i: int) -> np.array:\n",
    "    return a[i]\n",
    "\n",
    "def dot(a: np.array, b: np.array, i: int) -> np.array:\n",
    "    if isinstance(b, list):\n",
    "        result = [0] * len(b)\n",
    "        for j, data in enumerate(b):\n",
    "            result[j] = dot(a, data, i)\n",
    "        cache[i] = np.array(result)\n",
    "    else:\n",
    "        return np.sum(a * b.T)\n",
    "\n",
    "def dot_product_threaded(a: np.array, b: np.array):\n",
    "    assert a.shape[1] == b.shape[0]\n",
    "    num_of_threads = a.shape[1]\n",
    "    threads = []\n",
    "    global cache\n",
    "    cache = {}\n",
    "    for t in range(num_of_threads):\n",
    "        thread = threading.Thread(\n",
    "            target=dot,\n",
    "            args=(row(a, t), [column(b, i) for i in range(b.shape[1])], t)\n",
    "        )\n",
    "        threads.append(thread)\n",
    "        thread.start()\n",
    "\n",
    "    for thread in threads:\n",
    "        thread.join()\n",
    "\n",
    "    return np.array([cache[i] for i in range(num_of_threads)])\n",
    "\n",
    "def qr_threaded(A: np.array, num_of_threads: int) -> np.array:\n",
    "    n = A.shape[0]\n",
    "    if n < num_of_threads:\n",
    "        print('Number of threads is more than shape of matrix, changing...')\n",
    "        num_of_threads = n\n",
    "    blocks = []\n",
    "    for i in range(num_of_threads):\n"
   ],
   "metadata": {
    "collapsed": false,
    "ExecuteTime": {
     "end_time": "2023-06-06T16:08:38.414093100Z",
     "start_time": "2023-06-06T16:08:38.395093200Z"
    }
   }
  },
  {
   "cell_type": "code",
   "execution_count": 82,
   "outputs": [
    {
     "data": {
      "text/plain": "(array([[-33,  37, -11, ..., -16, -22,  -2],\n        [-44, -41,   6, ...,  -6,  29, -34],\n        [-38,  18,   7, ..., -36, -22,  -3],\n        ...,\n        [-42, -33,  18, ..., -16, -35,  37],\n        [-37, -48,  47, ...,   8, -42,  34],\n        [ 15,  -1,  46, ..., -31,  48, -17]]),\n array([[ 33, -13,  42, ..., -11, -43,  28],\n        [ 11,  16,  11, ..., -39,  39,  -8],\n        [-18, -13, -15, ...,  38, -27, -32],\n        ...,\n        [ 13,  25,   4, ..., -40,   9,   7],\n        [ 31,  41,  44, ..., -20, -13, -12],\n        [ 46, -26, -11, ...,  39,  30,  19]]))"
     },
     "execution_count": 82,
     "metadata": {},
     "output_type": "execute_result"
    }
   ],
   "source": [
    "n = 200\n",
    "matrix_a = np.random.randint(-50, 50, (n, n))\n",
    "matrix_b = np.random.randint(-50, 50, (n, n))\n",
    "matrix_a, matrix_b"
   ],
   "metadata": {
    "collapsed": false,
    "ExecuteTime": {
     "end_time": "2023-06-06T16:10:22.641110500Z",
     "start_time": "2023-06-06T16:10:22.583705100Z"
    }
   }
  },
  {
   "cell_type": "code",
   "execution_count": 83,
   "outputs": [
    {
     "data": {
      "text/plain": "array([[ -7376,  27329,   9940, ...,  11721,   8227, -11870],\n       [-32191,   2780,  -9039, ...,  11207,  -6545,   2497],\n       [  2007,  14984, -18070, ...,   2058, -14850,   4028],\n       ...,\n       [ -1249,   7623,   9347, ...,  18873,  -6625,   9008],\n       [-12389,  -9929,   1656, ...,  10014,  -5580,   1051],\n       [ 15462,  -4457,  -3405, ...,  -4567, -10396,  -3315]])"
     },
     "execution_count": 83,
     "metadata": {},
     "output_type": "execute_result"
    }
   ],
   "source": [
    "dot_product_threaded(matrix_a, matrix_b)"
   ],
   "metadata": {
    "collapsed": false,
    "ExecuteTime": {
     "end_time": "2023-06-06T16:10:25.238581Z",
     "start_time": "2023-06-06T16:10:23.094482800Z"
    }
   }
  },
  {
   "cell_type": "code",
   "execution_count": 84,
   "outputs": [
    {
     "data": {
      "text/plain": "array([[ -7376,  27329,   9940, ...,  11721,   8227, -11870],\n       [-32191,   2780,  -9039, ...,  11207,  -6545,   2497],\n       [  2007,  14984, -18070, ...,   2058, -14850,   4028],\n       ...,\n       [ -1249,   7623,   9347, ...,  18873,  -6625,   9008],\n       [-12389,  -9929,   1656, ...,  10014,  -5580,   1051],\n       [ 15462,  -4457,  -3405, ...,  -4567, -10396,  -3315]])"
     },
     "execution_count": 84,
     "metadata": {},
     "output_type": "execute_result"
    }
   ],
   "source": [
    "matrix_a @ matrix_b"
   ],
   "metadata": {
    "collapsed": false,
    "ExecuteTime": {
     "end_time": "2023-06-06T16:10:25.271720600Z",
     "start_time": "2023-06-06T16:10:25.240456400Z"
    }
   }
  },
  {
   "cell_type": "code",
   "execution_count": 85,
   "outputs": [],
   "source": [
    "def hauseholder_qr_threaded(A):\n",
    "    m, n = A.shape\n",
    "    Q = np.eye(m)\n",
    "    for i in range(n - (m == n)):\n",
    "        H = np.eye(m)\n",
    "        H[i:, i:] = make_householder(A[i:, i])\n",
    "        Q = dot_product_threaded(Q, H)\n",
    "        A = dot_product_threaded(H, A)\n",
    "    return Q, A"
   ],
   "metadata": {
    "collapsed": false,
    "ExecuteTime": {
     "end_time": "2023-06-06T16:20:25.321575100Z",
     "start_time": "2023-06-06T16:20:25.299575300Z"
    }
   }
  },
  {
   "cell_type": "code",
   "execution_count": 86,
   "outputs": [],
   "source": [
    "n = 3\n",
    "omega = 50\n",
    "\n",
    "matrix = np.random.randint(-omega, omega, (n, n))"
   ],
   "metadata": {
    "collapsed": false,
    "ExecuteTime": {
     "end_time": "2023-06-06T16:21:35.600673Z",
     "start_time": "2023-06-06T16:21:35.584673400Z"
    }
   }
  },
  {
   "cell_type": "code",
   "execution_count": 91,
   "outputs": [],
   "source": [
    "q_t, r_t = hauseholder_qr_threaded(matrix)\n",
    "q, r = hauseholder_qr(matrix)"
   ],
   "metadata": {
    "collapsed": false,
    "ExecuteTime": {
     "end_time": "2023-06-06T16:23:30.778001800Z",
     "start_time": "2023-06-06T16:23:30.754000800Z"
    }
   }
  },
  {
   "cell_type": "code",
   "execution_count": 92,
   "outputs": [
    {
     "data": {
      "text/plain": "(array([[-0.23627012,  0.81669397,  0.52648588],\n        [-0.76131483,  0.18109891, -0.62257763],\n        [-0.60380142, -0.54791801,  0.57897297]]),\n array([[-0.23627012,  0.81669397,  0.52648588],\n        [-0.76131483,  0.18109891, -0.62257763],\n        [-0.60380142, -0.54791801,  0.57897297]]))"
     },
     "execution_count": 92,
     "metadata": {},
     "output_type": "execute_result"
    }
   ],
   "source": [
    "q_t, q"
   ],
   "metadata": {
    "collapsed": false,
    "ExecuteTime": {
     "end_time": "2023-06-06T16:23:31.150197300Z",
     "start_time": "2023-06-06T16:23:31.140193100Z"
    }
   }
  },
  {
   "cell_type": "code",
   "execution_count": null,
   "outputs": [],
   "source": [],
   "metadata": {
    "collapsed": false
   }
  }
 ],
 "metadata": {
  "kernelspec": {
   "display_name": "Python 3",
   "language": "python",
   "name": "python3"
  },
  "language_info": {
   "codemirror_mode": {
    "name": "ipython",
    "version": 2
   },
   "file_extension": ".py",
   "mimetype": "text/x-python",
   "name": "python",
   "nbconvert_exporter": "python",
   "pygments_lexer": "ipython2",
   "version": "2.7.6"
  },
  "colab": {
   "provenance": [],
   "include_colab_link": true
  }
 },
 "nbformat": 4,
 "nbformat_minor": 0
}

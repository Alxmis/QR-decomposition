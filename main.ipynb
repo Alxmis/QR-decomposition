{
 "cells": [
  {
   "cell_type": "markdown",
   "source": [
    "# Libraries"
   ],
   "metadata": {
    "collapsed": false
   }
  },
  {
   "cell_type": "code",
   "execution_count": 1,
   "outputs": [],
   "source": [
    "import numpy as np"
   ],
   "metadata": {
    "collapsed": false,
    "ExecuteTime": {
     "end_time": "2023-05-27T09:04:06.215310800Z",
     "start_time": "2023-05-27T09:04:06.168746Z"
    }
   }
  },
  {
   "cell_type": "markdown",
   "source": [
    "# Task for 4 - 5 points"
   ],
   "metadata": {
    "collapsed": false
   }
  },
  {
   "cell_type": "code",
   "execution_count": 61,
   "outputs": [
    {
     "data": {
      "text/plain": "array([[-10,  -7,   1],\n       [ -8,   7,  -6],\n       [ -1,  -7,  -1]])"
     },
     "execution_count": 61,
     "metadata": {},
     "output_type": "execute_result"
    }
   ],
   "source": [
    "n = 3         # Size of the matrix\n",
    "epsilon = 10   # It is -min and max values in matrix\n",
    "\n",
    "matrix = np.random.randint(-epsilon, epsilon, (n, n))  # Generate random matrix\n",
    "#matrix = np.array([[1, 2, 3], [4, 5, 6], [7, 8, 9]])  # Test matrix\n",
    "matrix"
   ],
   "metadata": {
    "collapsed": false,
    "ExecuteTime": {
     "end_time": "2023-05-27T10:32:32.210035Z",
     "start_time": "2023-05-27T10:32:32.197030500Z"
    }
   }
  },
  {
   "cell_type": "code",
   "execution_count": 62,
   "outputs": [
    {
     "name": "stdout",
     "output_type": "stream",
     "text": [
      "numpy`s eigenvalues: [ 12.59512 -13.17936  -3.41575]\n"
     ]
    },
    {
     "data": {
      "text/plain": "array([[-13.17936,  -0.13663,   2.42679],\n       [ -0.     ,  12.59512,   0.30339],\n       [  0.     ,   0.     ,  -3.41575]])"
     },
     "execution_count": 62,
     "metadata": {},
     "output_type": "execute_result"
    }
   ],
   "source": [
    "delta = 1e-15  # Tolerance\n",
    "\n",
    "print(f'numpy`s eigenvalues: {np.linalg.eigvals(matrix).round(5)}')\n",
    "for i in range(100_000):\n",
    "    Q, R = np.linalg.qr(matrix)\n",
    "    if np.linalg.norm(R @ Q - matrix) < delta:\n",
    "        break\n",
    "    matrix = R @ Q\n",
    "matrix.round(5)"
   ],
   "metadata": {
    "collapsed": false,
    "ExecuteTime": {
     "end_time": "2023-05-27T10:32:35.418574300Z",
     "start_time": "2023-05-27T10:32:32.938516100Z"
    }
   }
  },
  {
   "cell_type": "code",
   "execution_count": null,
   "outputs": [],
   "source": [],
   "metadata": {
    "collapsed": false
   }
  }
 ],
 "metadata": {
  "kernelspec": {
   "display_name": "Python 3",
   "language": "python",
   "name": "python3"
  },
  "language_info": {
   "codemirror_mode": {
    "name": "ipython",
    "version": 2
   },
   "file_extension": ".py",
   "mimetype": "text/x-python",
   "name": "python",
   "nbconvert_exporter": "python",
   "pygments_lexer": "ipython2",
   "version": "2.7.6"
  }
 },
 "nbformat": 4,
 "nbformat_minor": 0
}

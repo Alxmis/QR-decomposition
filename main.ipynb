{
 "cells": [
  {
   "cell_type": "markdown",
   "source": [
    "# Libraries"
   ],
   "metadata": {
    "collapsed": false
   }
  },
  {
   "cell_type": "code",
   "execution_count": 70,
   "outputs": [],
   "source": [
    "import numpy as np\n",
    "import scipy.linalg as la"
   ],
   "metadata": {
    "collapsed": false,
    "ExecuteTime": {
     "end_time": "2023-05-27T10:51:35.994547Z",
     "start_time": "2023-05-27T10:51:35.929346700Z"
    }
   }
  },
  {
   "cell_type": "markdown",
   "source": [
    "# Task for 4 - 5 points"
   ],
   "metadata": {
    "collapsed": false
   }
  },
  {
   "cell_type": "code",
   "execution_count": 82,
   "outputs": [],
   "source": [
    "def get_random_real_matrix(n: int, epsilon: float) -> np.array:\n",
    "    \"\"\"\n",
    "    This function returns a random real matrix with n rows and n columns.\n",
    "    Also, it has real eigen values.\n",
    "\n",
    "    :param n: rank of the matrix\n",
    "    :param epsilon: it is -min and max values in matrix\n",
    "    :return: np.array()\n",
    "    \"\"\"\n",
    "\n",
    "    des = np.random.randn(n)\n",
    "    s = np.diag(des)\n",
    "    q = la.qr(np.random.rand(n, n))[0]\n",
    "    result = q.T @ s @ q\n",
    "    return result"
   ],
   "metadata": {
    "collapsed": false,
    "ExecuteTime": {
     "end_time": "2023-05-27T10:56:32.544156900Z",
     "start_time": "2023-05-27T10:56:32.528502900Z"
    }
   }
  },
  {
   "cell_type": "code",
   "execution_count": 85,
   "outputs": [
    {
     "data": {
      "text/plain": "array([[-0.02655746,  0.03365886,  0.28966267, -0.39187105, -0.30667135],\n       [ 0.03365886, -1.06236466,  0.27862017, -0.90191844,  0.67402579],\n       [ 0.28966267,  0.27862017, -0.12410201,  0.64226875, -0.0040396 ],\n       [-0.39187105, -0.90191844,  0.64226875, -0.82321446,  0.96243569],\n       [-0.30667135,  0.67402579, -0.0040396 ,  0.96243569, -0.3277104 ]])"
     },
     "execution_count": 85,
     "metadata": {},
     "output_type": "execute_result"
    }
   ],
   "source": [
    "n = 5         # Size of the matrix\n",
    "epsilon = 10   # It is -min and max values in matrix\n",
    "\n",
    "matrix = get_random_real_matrix(n, epsilon)  # Generate random matrix\n",
    "#matrix = np.array([[1, 2, 3], [4, 5, 6], [7, 8, 9]])  # Test matrix\n",
    "matrix"
   ],
   "metadata": {
    "collapsed": false,
    "ExecuteTime": {
     "end_time": "2023-05-27T10:57:13.590307900Z",
     "start_time": "2023-05-27T10:57:13.566642900Z"
    }
   }
  },
  {
   "cell_type": "code",
   "execution_count": 86,
   "outputs": [
    {
     "name": "stdout",
     "output_type": "stream",
     "text": [
      "numpy`s eigenvalues: [-2.61541  0.78541 -0.64796  0.25691 -0.1429 ]\n"
     ]
    },
    {
     "data": {
      "text/plain": "array([[-2.61541,  0.     ,  0.     ,  0.     ,  0.     ],\n       [ 0.     ,  0.78541, -0.     , -0.     , -0.     ],\n       [-0.     , -0.     , -0.64796, -0.     , -0.     ],\n       [-0.     , -0.     , -0.     ,  0.25691, -0.     ],\n       [-0.     , -0.     , -0.     , -0.     , -0.1429 ]])"
     },
     "execution_count": 86,
     "metadata": {},
     "output_type": "execute_result"
    }
   ],
   "source": [
    "print(f'numpy`s eigenvalues: {np.linalg.eigvals(matrix).round(5)}')\n",
    "while not np.allclose(matrix, np.triu(matrix)):\n",
    "    Q, R = np.linalg.qr(matrix)\n",
    "    matrix = R @ Q\n",
    "matrix.round(5)"
   ],
   "metadata": {
    "collapsed": false,
    "ExecuteTime": {
     "end_time": "2023-05-27T10:57:13.961303700Z",
     "start_time": "2023-05-27T10:57:13.936254100Z"
    }
   }
  },
  {
   "cell_type": "markdown",
   "source": [
    "# Task for 6 - 7"
   ],
   "metadata": {
    "collapsed": false
   }
  },
  {
   "cell_type": "code",
   "execution_count": null,
   "outputs": [],
   "source": [],
   "metadata": {
    "collapsed": false
   }
  }
 ],
 "metadata": {
  "kernelspec": {
   "display_name": "Python 3",
   "language": "python",
   "name": "python3"
  },
  "language_info": {
   "codemirror_mode": {
    "name": "ipython",
    "version": 2
   },
   "file_extension": ".py",
   "mimetype": "text/x-python",
   "name": "python",
   "nbconvert_exporter": "python",
   "pygments_lexer": "ipython2",
   "version": "2.7.6"
  }
 },
 "nbformat": 4,
 "nbformat_minor": 0
}

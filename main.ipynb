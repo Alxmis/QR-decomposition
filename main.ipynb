{
 "cells": [
  {
   "cell_type": "markdown",
   "source": [
    "# Libraries"
   ],
   "metadata": {
    "collapsed": false
   }
  },
  {
   "cell_type": "code",
   "execution_count": 62,
   "outputs": [],
   "source": [
    "import numpy as np\n",
    "import cmath\n",
    "import math"
   ],
   "metadata": {
    "collapsed": false,
    "ExecuteTime": {
     "end_time": "2023-06-05T18:42:46.098126500Z",
     "start_time": "2023-06-05T18:42:46.074123700Z"
    }
   }
  },
  {
   "cell_type": "markdown",
   "source": [
    "# Task for 6-7"
   ],
   "metadata": {
    "collapsed": false
   }
  },
  {
   "cell_type": "code",
   "execution_count": 78,
   "outputs": [],
   "source": [
    "def simple_qr(matrix: np.array) -> np.array:\n",
    "    q, r = np.linalg.qr(matrix)\n",
    "    for _ in range(1_000):\n",
    "        matrix = r @ q\n",
    "        q, r = np.linalg.qr(matrix)\n",
    "    return matrix\n",
    "\n",
    "def get_roots(matrix: np.array) -> np.array:\n",
    "    n = matrix.shape[0]\n",
    "    approximated = np.vstack([simple_qr(matrix), np.zeros(n)])\n",
    "    determinated = approximated.round(5)\n",
    "\n",
    "    roots = np.zeros(n)\n",
    "    i = 0\n",
    "    while i < n:\n",
    "        root = approximated[i][i]\n",
    "        detr = determinated[i+1][i]\n",
    "        if detr == 0:\n",
    "            roots[i] = root\n",
    "        else:\n",
    "            # select block\n",
    "            p = 1\n",
    "            for j in range(i+1, n):\n",
    "                if determinated[j+1][j] == 0:\n",
    "                    break\n",
    "                p += 1\n",
    "            block = approximated[i:i+p+1, i:i+p+1]\n",
    "            # p == 1 -> our target\n",
    "            if p == 1:\n",
    "                D = (block[1][1] + block[0][0])**2 - 4*(block[0][0]*block[1][1]-block[0][1]*block[1][0])\n",
    "                # convert type\n",
    "                if D < 0:\n",
    "                    roots = roots.astype(complex)\n",
    "                    l1 = (block[1][1] + block[0][0] - cmath.sqrt(D))/2\n",
    "                    l2 = (block[1][1] + block[0][0] + cmath.sqrt(D))/2\n",
    "                else:\n",
    "                    l1 = (block[1][1] + block[0][0] - math.sqrt(D))/2\n",
    "                    l2 = (block[1][1] + block[0][0] + math.sqrt(D))/2\n",
    "                roots[i + p - 1] = l1\n",
    "                roots[i + p - 0] = l2\n",
    "            # p != 1 -> not our target\n",
    "            else:\n",
    "                __roots = np.linalg.eigvals(block)\n",
    "                for j in range(p+1):\n",
    "                    roots[i + j] = __roots[j]\n",
    "            print(block)\n",
    "            i += p\n",
    "        i += 1\n",
    "    return roots\n"
   ],
   "metadata": {
    "collapsed": false,
    "ExecuteTime": {
     "end_time": "2023-06-05T18:49:24.605147600Z",
     "start_time": "2023-06-05T18:49:24.555535300Z"
    }
   }
  },
  {
   "cell_type": "code",
   "execution_count": 80,
   "outputs": [
    {
     "name": "stdout",
     "output_type": "stream",
     "text": [
      "Initial matrix:\n",
      "[[-50   5  21   6 -47  48 -19  13  31  49]\n",
      " [ 45  -6  36 -45  30 -37 -22  15  46  38]\n",
      " [-23  15  11   2 -28  37   3 -38  10   3]\n",
      " [  8  18 -40  24   5 -36  39   0 -49 -34]\n",
      " [  8 -21 -36  -5 -30 -23  33 -29 -32 -29]\n",
      " [ 32  14 -45   6  42  30  41   0 -39 -23]\n",
      " [-27 -36 -10 -37   8 -15   1 -30 -17 -11]\n",
      " [ 38 -30 -18  41  24  43  28 -32  -4 -40]\n",
      " [-14 -13   8 -44  42 -33 -41  45 -33  19]\n",
      " [ 47  42 -35  16  -9 -14  40 -35  44  25]]\n",
      "Approximated matrix:\n",
      "[[-9.446301e+01 -2.557466e+01  4.400223e+01  3.062915e+01  7.829320e+00\n",
      "  -1.365399e+01  1.459837e+01 -2.354476e+01 -7.803362e+01 -4.724899e+01]\n",
      " [ 0.000000e+00  8.611941e+01  1.866761e+01  1.764785e+01 -6.458600e-01\n",
      "   6.028097e+01  5.308479e+01 -2.489358e+01 -4.385223e+01 -4.703753e+01]\n",
      " [ 0.000000e+00  0.000000e+00 -2.567417e+01  7.197156e+01  4.850358e+01\n",
      "  -2.090850e+01  2.592950e+01 -9.544120e+00 -2.646845e+01 -1.234800e-01]\n",
      " [-0.000000e+00 -0.000000e+00 -4.095504e+01 -6.097265e+01 -1.995965e+01\n",
      "   6.319718e+01 -1.887120e+01 -5.721558e+01 -5.723741e+01 -5.955477e+01]\n",
      " [ 0.000000e+00  0.000000e+00  0.000000e+00 -0.000000e+00 -3.233805e+01\n",
      "  -2.318531e+01 -3.759233e+01  4.041660e+01 -3.637639e+01  4.978957e+01]\n",
      " [ 0.000000e+00  0.000000e+00  0.000000e+00  0.000000e+00  2.884669e+01\n",
      "  -2.756058e+01 -3.318460e+00 -2.674234e+01 -2.437320e+00  1.975455e+01]\n",
      " [ 0.000000e+00  0.000000e+00 -0.000000e+00  0.000000e+00 -0.000000e+00\n",
      "   0.000000e+00  3.410971e+01  1.759643e+01  2.151109e+01  6.327640e+00]\n",
      " [ 0.000000e+00  0.000000e+00  0.000000e+00  0.000000e+00 -0.000000e+00\n",
      "   0.000000e+00 -1.591976e+01  3.554551e+01 -3.228879e+01 -1.699250e+01]\n",
      " [ 0.000000e+00  0.000000e+00 -0.000000e+00 -0.000000e+00  0.000000e+00\n",
      "   0.000000e+00  1.200000e-04 -8.000000e-05  7.701770e+00  3.495233e+01]\n",
      " [ 0.000000e+00  0.000000e+00  0.000000e+00  0.000000e+00  0.000000e+00\n",
      "  -0.000000e+00 -1.000000e-05 -1.300000e-04 -3.780203e+01  1.753205e+01]]\n",
      "[[-25.67417043  71.97156327]\n",
      " [-40.95504269 -60.97265355]]\n",
      "[[-32.33804969 -23.18531238]\n",
      " [ 28.84668975 -27.56058223]]\n",
      "[[ 3.41097117e+01  1.75964340e+01  2.15110871e+01  6.32764382e+00]\n",
      " [-1.59197555e+01  3.55455120e+01 -3.22887860e+01 -1.69925019e+01]\n",
      " [ 1.19300863e-04 -7.59203254e-05  7.70177447e+00  3.49523343e+01]\n",
      " [-8.57002243e-06 -1.34773912e-04 -3.78020348e+01  1.75320518e+01]]\n",
      "Function`s roots:\n",
      "[-94.46300786 +0.j          86.11941382 +0.j\n",
      " -43.32341199-51.34299094j -43.32341199+51.34299094j\n",
      " -29.94931596-25.75098957j -29.94931596+25.75098957j\n",
      "  34.82765768+16.72167298j  34.82765768-16.72167298j\n",
      "  12.6168673 +36.01536823j  12.6168673 -36.01536823j]\n",
      "True eigenvalues:\n",
      "[-94.46300786 +0.j          86.11941382 +0.j\n",
      " -43.32341199+51.34299094j -43.32341199-51.34299094j\n",
      " -29.94931596+25.75098956j -29.94931596-25.75098956j\n",
      "  12.6168673 +36.01536823j  12.6168673 -36.01536823j\n",
      "  34.82765767+16.72167297j  34.82765767-16.72167297j]\n"
     ]
    }
   ],
   "source": [
    "n = 10\n",
    "omega = 50\n",
    "\n",
    "matrix = np.random.randint(-omega, omega, (n, n))\n",
    "print(f\"Initial matrix:\\n{matrix}\")\n",
    "approximated_matrix = simple_qr(matrix)\n",
    "print(f\"Approximated matrix:\\n{approximated_matrix.round(5)}\")\n",
    "roots = get_roots(matrix)\n",
    "print(f\"Function`s roots:\\n{roots}\")\n",
    "eigen = np.linalg.eigvals(matrix)\n",
    "print(f\"True eigenvalues:\\n{eigen}\")"
   ],
   "metadata": {
    "collapsed": false,
    "ExecuteTime": {
     "end_time": "2023-06-05T18:49:32.200897500Z",
     "start_time": "2023-06-05T18:49:32.023507500Z"
    }
   }
  },
  {
   "cell_type": "code",
   "execution_count": null,
   "outputs": [],
   "source": [],
   "metadata": {
    "collapsed": false
   }
  }
 ],
 "metadata": {
  "kernelspec": {
   "display_name": "Python 3",
   "language": "python",
   "name": "python3"
  },
  "language_info": {
   "codemirror_mode": {
    "name": "ipython",
    "version": 2
   },
   "file_extension": ".py",
   "mimetype": "text/x-python",
   "name": "python",
   "nbconvert_exporter": "python",
   "pygments_lexer": "ipython2",
   "version": "2.7.6"
  }
 },
 "nbformat": 4,
 "nbformat_minor": 0
}

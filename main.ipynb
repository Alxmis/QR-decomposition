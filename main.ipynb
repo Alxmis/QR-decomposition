{
  "cells": [
    {
      "cell_type": "markdown",
      "metadata": {
        "id": "view-in-github",
        "colab_type": "text"
      },
      "source": [
        "<a href=\"https://colab.research.google.com/github/Alxmis/QR-decomposition/blob/Splines_coeffs_founder/main.ipynb\" target=\"_parent\"><img src=\"https://colab.research.google.com/assets/colab-badge.svg\" alt=\"Open In Colab\"/></a>"
      ]
    },
    {
      "cell_type": "markdown",
      "source": [
        "# Libraries"
      ],
      "metadata": {
        "collapsed": false,
        "id": "alFpzjOJneaZ"
      }
    },
    {
      "cell_type": "code",
      "execution_count": 12,
      "outputs": [],
      "source": [
        "import numpy as np\n",
        "import matplotlib.pyplot as plt\n",
        "from sympy import poly\n",
        "from sympy.abc import x\n",
        "import cmath\n",
        "import math\n",
        "import scipy"
      ],
      "metadata": {
        "id": "4KNU0f2Bneag",
        "ExecuteTime": {
          "end_time": "2023-06-06T15:46:14.980649800Z",
          "start_time": "2023-06-06T15:46:14.854906600Z"
        }
      }
    },
    {
      "cell_type": "markdown",
      "source": [
        "# Task for 6-7"
      ],
      "metadata": {
        "collapsed": false,
        "id": "UARiDp2Mneaj"
      }
    },
    {
      "cell_type": "code",
      "execution_count": 13,
      "outputs": [],
      "source": [
        "def simple_qr(matrix: np.array) -> np.array:\n",
        "    q, r = np.linalg.qr(matrix)\n",
        "    for _ in range(1_000):\n",
        "        matrix = r @ q\n",
        "        q, r = np.linalg.qr(matrix)\n",
        "    return matrix\n",
        "\n",
        "def get_roots(matrix: np.array) -> np.array:\n",
        "    n = matrix.shape[0]\n",
        "    approximated = np.vstack([simple_qr(matrix), np.zeros(n)])\n",
        "    determinated = approximated.round(5)\n",
        "\n",
        "    roots = np.zeros(n)\n",
        "    i = 0\n",
        "    while i < n:\n",
        "        root = approximated[i][i]\n",
        "        detr = determinated[i+1][i]\n",
        "        if detr == 0:\n",
        "            roots[i] = root\n",
        "        else:\n",
        "            # select block\n",
        "            p = 1\n",
        "            for j in range(i+1, n):\n",
        "                if determinated[j+1][j] == 0:\n",
        "                    break\n",
        "                p += 1\n",
        "            block = approximated[i:i+p+1, i:i+p+1]\n",
        "            # p == 1 -> our target\n",
        "            if p == 1:\n",
        "                D = (block[1][1] + block[0][0])**2 - 4*(block[0][0]*block[1][1]-block[0][1]*block[1][0])\n",
        "                # convert type\n",
        "                if D < 0:\n",
        "                    roots = roots.astype(complex)\n",
        "                    l1 = (block[1][1] + block[0][0] - cmath.sqrt(D))/2\n",
        "                    l2 = (block[1][1] + block[0][0] + cmath.sqrt(D))/2\n",
        "                else:\n",
        "                    l1 = (block[1][1] + block[0][0] - math.sqrt(D))/2\n",
        "                    l2 = (block[1][1] + block[0][0] + math.sqrt(D))/2\n",
        "                roots[i + p - 1] = l1\n",
        "                roots[i + p - 0] = l2\n",
        "            # p != 1 -> not our target\n",
        "            else:\n",
        "                __roots = np.linalg.eigvals(block)\n",
        "                for j in range(p+1):\n",
        "                    roots[i + j] = __roots[j]\n",
        "            print(block)\n",
        "            i += p\n",
        "        i += 1\n",
        "    return roots\n"
      ],
      "metadata": {
        "id": "2tsm-wdineaj",
        "ExecuteTime": {
          "end_time": "2023-06-06T15:46:15.013819200Z",
          "start_time": "2023-06-06T15:46:14.979649800Z"
        }
      }
    },
    {
      "cell_type": "code",
      "execution_count": 14,
      "outputs": [
        {
          "output_type": "stream",
          "name": "stdout",
          "text": [
            "Initial matrix:\n",
            "[[-37  11  31]\n",
            " [-28  24 -12]\n",
            " [ -2 -22 -39]]\n",
            "Approximated matrix:\n",
            "[[-3.094709e+01 -3.212309e+01  2.586970e+01]\n",
            " [ 1.305165e+01 -4.869177e+01 -4.581000e-02]\n",
            " [ 0.000000e+00 -0.000000e+00  2.763887e+01]]\n",
            "[[-30.9470945  -32.12308848]\n",
            " [ 13.05164707 -48.69177309]]\n",
            "Function`s roots:\n",
            "[-39.8194338-18.45374783j -39.8194338+18.45374783j\n",
            "  27.6388676 +0.j        ]\n",
            "True eigenvalues:\n",
            "[ 27.6388676 +0.j         -39.8194338+18.45374783j\n",
            " -39.8194338-18.45374783j]\n"
          ]
        }
      ],
      "source": [
        "n = 3\n",
        "omega = 50\n",
        "\n",
        "matrix = np.random.randint(-omega, omega, (n, n))\n",
        "print(f\"Initial matrix:\\n{matrix}\")\n",
        "approximated_matrix = simple_qr(matrix)\n",
        "print(f\"Approximated matrix:\\n{approximated_matrix.round(5)}\")\n",
        "roots = get_roots(matrix)\n",
        "print(f\"Function`s roots:\\n{roots}\")\n",
        "eigen = np.linalg.eigvals(matrix)\n",
        "print(f\"True eigenvalues:\\n{eigen}\")"
      ],
      "metadata": {
        "colab": {
          "base_uri": "https://localhost:8080/"
        },
        "id": "fH1rnL5Hneak",
        "outputId": "d6e8a706-b8af-4b25-9d74-bb64251543e7",
        "ExecuteTime": {
          "end_time": "2023-06-06T15:46:15.108823300Z",
          "start_time": "2023-06-06T15:46:15.011819200Z"
        }
      }
    },
    {
      "cell_type": "markdown",
      "source": [
        "# Task for 8"
      ],
      "metadata": {
        "collapsed": false,
        "id": "Qa0Ks2x1neam"
      }
    },
    {
      "cell_type": "code",
      "execution_count": 15,
      "outputs": [],
      "source": [
        "def hauseholder_qr(A):\n",
        "    m, n = A.shape\n",
        "    Q = np.eye(m)\n",
        "    for i in range(n - (m == n)):\n",
        "        H = np.eye(m)\n",
        "        H[i:, i:] = make_householder(A[i:, i])\n",
        "        Q = np.dot(Q, H)\n",
        "        A = np.dot(H, A)\n",
        "    return Q, A\n",
        "\n",
        "def make_householder(a):\n",
        "    v = a / (a[0] + np.copysign(np.linalg.norm(a), a[0]))\n",
        "    v[0] = 1\n",
        "    H = np.eye(a.shape[0])\n",
        "    H -= (2 / np.dot(v, v)) * np.dot(v[:, None], v[None, :])\n",
        "    return H"
      ],
      "metadata": {
        "id": "hmsyBjoFneam",
        "ExecuteTime": {
          "end_time": "2023-06-06T15:46:15.159823600Z",
          "start_time": "2023-06-06T15:46:15.106823900Z"
        }
      }
    },
    {
      "cell_type": "code",
      "execution_count": 16,
      "outputs": [],
      "source": [
        "q_h, r_h = hauseholder_qr(matrix)\n",
        "q, r = np.linalg.qr(matrix)"
      ],
      "metadata": {
        "id": "FPYAaOrGneam",
        "ExecuteTime": {
          "end_time": "2023-06-06T15:46:15.217587500Z",
          "start_time": "2023-06-06T15:46:15.153823500Z"
        }
      }
    },
    {
      "cell_type": "code",
      "execution_count": 17,
      "outputs": [
        {
          "output_type": "stream",
          "name": "stdout",
          "text": [
            "Householder\n",
            "Q:[[-0.79666668  0.25816861 -0.54650817]\n",
            " [-0.60288289 -0.40384035  0.68807353]\n",
            " [-0.04306306  0.87764568  0.47737159]]\n",
            "R:[[ 4.64435141e+01 -2.22851354e+01 -1.57826128e+01]\n",
            " [-3.22221854e-15 -2.61605187e+01 -2.13788703e+01]\n",
            " [ 6.63060662e-15  3.77336068e-15 -4.38161276e+01]]\n",
            "Numpy\n",
            "Q:[[-0.79666668  0.25816861 -0.54650817]\n",
            " [-0.60288289 -0.40384035  0.68807353]\n",
            " [-0.04306306  0.87764568  0.47737159]]\n",
            "R:[[ 46.44351408 -22.28513541 -15.7826128 ]\n",
            " [  0.         -26.16051872 -21.37887029]\n",
            " [  0.           0.         -43.8161276 ]]\n"
          ]
        }
      ],
      "source": [
        "print(f'Householder\\nQ:{q_h}\\nR:{r_h}')\n",
        "print(f'Numpy\\nQ:{q}\\nR:{r}')"
      ],
      "metadata": {
        "id": "voJOSiECnean",
        "outputId": "88f057e7-857b-4726-807b-1732650bf2ba",
        "ExecuteTime": {
          "end_time": "2023-06-06T15:46:15.296657400Z",
          "start_time": "2023-06-06T15:46:15.216587400Z"
        },
        "colab": {
          "base_uri": "https://localhost:8080/"
        }
      }
    },
    {
      "cell_type": "code",
      "execution_count": 18,
      "outputs": [
        {
          "output_type": "execute_result",
          "data": {
            "text/plain": [
              "(array([[ True,  True,  True],\n",
              "        [ True,  True,  True],\n",
              "        [ True,  True,  True]]),\n",
              " array([[ True,  True,  True],\n",
              "        [ True,  True,  True],\n",
              "        [ True,  True,  True]]))"
            ]
          },
          "metadata": {},
          "execution_count": 18
        }
      ],
      "source": [
        "q_h.round(5) == q.round(5), r_h.round(5) == r.round(5)"
      ],
      "metadata": {
        "id": "rzTeBGG5nean",
        "outputId": "89aca8a9-4744-4cb1-d2bc-1f093655627e",
        "ExecuteTime": {
          "end_time": "2023-06-06T15:46:15.360657800Z",
          "start_time": "2023-06-06T15:46:15.297657300Z"
        },
        "colab": {
          "base_uri": "https://localhost:8080/"
        }
      }
    },
    {
      "cell_type": "markdown",
      "source": [
        "# Task for 10 Splines"
      ],
      "metadata": {
        "id": "j4SJKSRnvejJ"
      }
    },
    {
      "cell_type": "code",
      "source": [
        "EPS = 1e-2"
      ],
      "metadata": {
        "id": "1UD97TYJviea"
      },
      "execution_count": 19,
      "outputs": []
    },
    {
      "cell_type": "code",
      "source": [
        "def TDMA(M, B, n):\n",
        "    coeff = np.array([[0 for _ in range(2)] for i in range(n)], dtype=float)\n",
        "    root = np.array([0 for _ in range(n)], dtype=float)\n",
        "    temp_y = np.array([0 for _ in range(n)], dtype=float)\n",
        "\n",
        "    for i in range(n):\n",
        "        if i == 0:\n",
        "            temp_y[i] = M[i][i]\n",
        "            coeff[i][0] = -M[i][1] / temp_y[i]\n",
        "            coeff[i][1] = B[i] / temp_y[i]\n",
        "            continue\n",
        "        elif i == n - 1:\n",
        "            temp_y[i] = M[i][i] + M[i][i - 1] * coeff[i - 1][0]\n",
        "            coeff[i][1] = (B[i] - M[i][i - 1] * coeff[i - 1][1]) / temp_y[i]\n",
        "            continue\n",
        "        temp_y[i] = M[i][i] + M[i][i - 1] * coeff[i - 1][0]\n",
        "        coeff[i][0] = -M[i][i + 1] / temp_y[i]\n",
        "        coeff[i][1] = (B[i] - M[i][i - 1] * coeff[i - 1][1]) / temp_y[i]\n",
        "\n",
        "    for i in range(n - 1, 0 - 1, -1):\n",
        "        if i == n - 1:\n",
        "            root[i] = coeff[i][1]\n",
        "            continue\n",
        "        root[i] = coeff[i][0] * root[i + 1] + coeff[i][1]\n",
        "\n",
        "    return root\n",
        "\n",
        "def get_gammas(X, Y, G, n):\n",
        "    for i in range(n - 2):\n",
        "        for j in range(n - 2):\n",
        "            if j == i - 1 or j == i + 1:\n",
        "                G[i][j] = (X[i + 1] - X[i]) / 6.0\n",
        "            elif j == i:\n",
        "                G[i][j] = ((X[i + 1] - X[i]) + (X[i + 2] - X[i + 1])) / 3.0\n",
        "            else:\n",
        "                G[i][j] = 0\n",
        "\n",
        "    B = np.array([0 for _ in range(n - 2)], dtype=float)\n",
        "    for i in range(n - 2):\n",
        "        B[i] = ((Y[i + 2] - Y[i + 1]) / (X[i + 2] - X[i + 1])) \\\n",
        "               - ((Y[i + 1] - Y[i]) / (X[i + 1] - X[i]))\n",
        "\n",
        "    temp_gammas = TDMA(G, B, n - 2)\n",
        "    gammas = np.array([0 for _ in range(n)], dtype=float)\n",
        "    gammas[0], gammas[n - 1] = g0, gn\n",
        "    for i in range(1, n - 1):\n",
        "        gammas[i] = temp_gammas[i - 1]\n",
        "\n",
        "    return gammas\n",
        "\n",
        "def get_point(X, Y, gammas, x0, i):\n",
        "    G = gammas\n",
        "    w = X[i + 1] - X[i]\n",
        "    return Y[i] * ((X[i + 1] - x0) / w) \\\n",
        "            + Y[i + 1] * ((x0 - X[i]) / w) \\\n",
        "            + G[i] * ((X[i + 1] - x0)**3 - w**2 * (X[i + 1] - x0)) / (6.0 * w) \\\n",
        "            + G[i + 1] * ((x0 - X[i])**3 - w**2 * (x0 - X[i])) / (6.0 * w)\n",
        "\n",
        "def get_segment(X, x0, n):\n",
        "    segment = -1\n",
        "    for i in range(n - 1):\n",
        "        if X[i] <= x0 and x0 <= X[i + 1]:\n",
        "            segment = i\n",
        "            break\n",
        "\n",
        "    if segment != - 1:\n",
        "        return segment\n",
        "    else:\n",
        "        print(\"Splines do not have intersection point\")\n",
        "        exit(2)\n",
        "\n",
        "def get_poly_coeffs(X, Y, gammas, i):\n",
        "    G = gammas\n",
        "    w = X[i + 1] - X[i]\n",
        "    polynom = poly(Y[i] * ((X[i + 1] - x) / w) \\\n",
        "             + Y[i + 1] * ((x - X[i]) / w) \\\n",
        "             + G[i] * ((X[i + 1] - x) ** 3 - w ** 2 * (X[i + 1] - x)) / (6.0 * w) \\\n",
        "             + G[i + 1] * ((x - X[i]) ** 3 - w ** 2 * (x - X[i])) / (6.0 * w), x)\n",
        "    return polynom.all_coeffs()\n",
        "\n",
        "def get_intersection_segments(X1, Y1, X2, Y2, gammas_1, gammas_2, n):\n",
        "    left_boarder, right_boarder = max(X1[0], X2[0]), min(X1[-1], X2[-1])\n",
        "    x0 = left_boarder\n",
        "    segment_1, segment_2 = -1, -1\n",
        "    while x0 < right_boarder:\n",
        "        segment_1 = get_segment(X1, x0, n)\n",
        "        segment_2 = get_segment(X2, x0, n)\n",
        "        if abs(get_point(X1, Y1, gammas_1, x0, segment_1) - get_point(X2, Y2, gammas_2, x0, segment_2)) < EPS:\n",
        "            break\n",
        "\n",
        "        x0 += 0.001\n",
        "\n",
        "    return segment_1, segment_2"
      ],
      "metadata": {
        "id": "SgM9QGASvnOI"
      },
      "execution_count": 20,
      "outputs": []
    },
    {
      "cell_type": "code",
      "source": [
        "X1 = np.loadtxt('X1.txt', dtype=float)\n",
        "X2 = np.loadtxt('X2.txt', dtype=float)\n",
        "Y1 = np.loadtxt('Y1.txt', dtype=float)\n",
        "Y2 = np.loadtxt('Y2.txt', dtype=float)\n",
        "n = X1.shape[0]\n",
        "\n",
        "g0 = gn = 0\n",
        "G = np.array([[0 for _ in range(n - 2)] for i in range(n - 2)], dtype=float)\n",
        "gammas_1 = get_gammas(X1, Y1, G, n)\n",
        "gammas_2 = get_gammas(X2, Y2, G, n)\n",
        "\n",
        "\n",
        "inter_segment_1, inter_segment_2 = get_intersection_segments(X1, Y1, X2, Y2, gammas_1, gammas_2, n)\n",
        "\n",
        "\n",
        "coeffs_1 = np.array(get_poly_coeffs(X1, Y1, gammas_1, inter_segment_1))\n",
        "coeffs_2 = np.array(get_poly_coeffs(X2, Y2, gammas_2, inter_segment_2))\n",
        "coefficients = coeffs_1 - coeffs_2"
      ],
      "metadata": {
        "id": "YXq-jXGRv4su"
      },
      "execution_count": 21,
      "outputs": []
    },
    {
      "cell_type": "code",
      "source": [
        "H = np.array([[0, 0, -coefficients[3] / coefficients[0]],\n",
        "              [1, 0, -coefficients[2] / coefficients[0]],\n",
        "              [0, 1, -coefficients[1] / coefficients[0]]])\n",
        "roots = get_roots(H)\n",
        "root_num = roots.shape[0]\n",
        "for i in range(root_num):\n",
        "    if (roots[i] >= max(X1[inter_segment_1], X2[inter_segment_2]) and roots[i] <= min(X1[inter_segment_1+1], X2[inter_segment_2+1])):\n",
        "        print(\"Intersection point:\", roots[i], get_point(X1, Y1, gammas_1, roots[i], inter_segment_1))"
      ],
      "metadata": {
        "colab": {
          "base_uri": "https://localhost:8080/"
        },
        "id": "ksF0drMWCH6d",
        "outputId": "920df477-274a-4aa8-9522-97c66dedc531"
      },
      "execution_count": 22,
      "outputs": [
        {
          "output_type": "stream",
          "name": "stdout",
          "text": [
            "Intersection point: 2.035575834248613 3.5947057699136833\n"
          ]
        }
      ]
    },
    {
      "cell_type": "markdown",
      "source": [
        "# Task for 10 Gram_Schmidt"
      ],
      "metadata": {
        "id": "5GFHpSxf46en"
      }
    },
    {
      "cell_type": "code",
      "source": [
        "def gram_orthon(matrix):\n",
        "    M = gram_orthog(matrix)\n",
        "    n_cols = M.shape[1]\n",
        "    for i in range(n_cols):\n",
        "        M[:, i] = M[:, i] / np.linalg.norm(M[:, i])\n",
        "    return M\n",
        "\n",
        "def gram_orthog(matrix):\n",
        "    n_rows, n_cols = matrix.shape\n",
        "    M = np.zeros((n_rows, n_cols))\n",
        "    for i in range(n_cols):\n",
        "        m = matrix[:, i].astype('float64')\n",
        "        for j in range(i):\n",
        "            m -= np.dot(m, M[:, j]) / np.dot(M[:, j], M[:, j]) * M[:, j]\n",
        "        M[:, i] = m\n",
        "    return M\n",
        "\n",
        "def gram_R(matrix, Q):\n",
        "    n_rows, n_cols = matrix.shape\n",
        "    R = np.zeros((n_rows, n_cols))\n",
        "    for j in range(n_cols):\n",
        "        for i in range(j + 1):\n",
        "            R[i, j] = np.dot(Q[:, i], matrix[:, j])\n",
        "    return R\n",
        "\n",
        "def gram_qr(matrix):\n",
        "  Q = gram_orthon(matrix)\n",
        "  R = gram_R(matrix, Q)\n",
        "  return Q, R"
      ],
      "metadata": {
        "id": "5WeLiMameTxt",
        "ExecuteTime": {
          "end_time": "2023-06-06T15:46:15.426133500Z",
          "start_time": "2023-06-06T15:46:15.378132700Z"
        }
      },
      "execution_count": 23,
      "outputs": []
    },
    {
      "cell_type": "code",
      "source": [
        "q_g, r_g = gram_qr(matrix)\n",
        "q, r = np.linalg.qr(matrix)"
      ],
      "metadata": {
        "id": "xjre8cMIeZYM",
        "ExecuteTime": {
          "end_time": "2023-06-06T15:46:15.750199300Z",
          "start_time": "2023-06-06T15:46:15.425133900Z"
        }
      },
      "execution_count": 24,
      "outputs": []
    },
    {
      "cell_type": "code",
      "source": [
        "print(f'Gram\\nQ:{q_g}\\nR:{r_g}\\nQR:{q_g@r_g}')\n",
        "print(f'Numpy\\nQ:{q}\\nR:{r}\\nqr:{q@r}')"
      ],
      "metadata": {
        "colab": {
          "base_uri": "https://localhost:8080/"
        },
        "id": "_ctkhdQviZwv",
        "outputId": "b0d31c7b-56da-4b70-aa75-c1112642739b",
        "ExecuteTime": {
          "end_time": "2023-06-06T15:46:15.871930700Z",
          "start_time": "2023-06-06T15:46:15.751199Z"
        }
      },
      "execution_count": 25,
      "outputs": [
        {
          "output_type": "stream",
          "name": "stdout",
          "text": [
            "Gram\n",
            "Q:[[-0.79666668 -0.25816861  0.54650817]\n",
            " [-0.60288289  0.40384035 -0.68807353]\n",
            " [-0.04306306 -0.87764568 -0.47737159]]\n",
            "R:[[ 46.44351408 -22.28513541 -15.7826128 ]\n",
            " [  0.          26.16051872  21.37887029]\n",
            " [  0.           0.          43.8161276 ]]\n",
            "QR:[[-37.  11.  31.]\n",
            " [-28.  24. -12.]\n",
            " [ -2. -22. -39.]]\n",
            "Numpy\n",
            "Q:[[-0.79666668  0.25816861 -0.54650817]\n",
            " [-0.60288289 -0.40384035  0.68807353]\n",
            " [-0.04306306  0.87764568  0.47737159]]\n",
            "R:[[ 46.44351408 -22.28513541 -15.7826128 ]\n",
            " [  0.         -26.16051872 -21.37887029]\n",
            " [  0.           0.         -43.8161276 ]]\n",
            "qr:[[-37.  11.  31.]\n",
            " [-28.  24. -12.]\n",
            " [ -2. -22. -39.]]\n"
          ]
        }
      ]
    },
    {
      "cell_type": "markdown",
      "source": [
        "## Stability: Gram Schmidt VS Hauseholder"
      ],
      "metadata": {
        "id": "lBaHQHlB-yoP"
      }
    },
    {
      "cell_type": "code",
      "source": [
        "import matplotlib.pyplot as plt\n",
        "\n",
        "def measure_stability(init_matrix, pert_matrix, gram_mode=1):\n",
        "  if gram_mode == 1:\n",
        "    Q_i, R_i = gram_qr(init_matrix)\n",
        "    Q_p, R_p = gram_qr(pert_matrix)\n",
        "    error = np.linalg.norm(Q_i @ R_i - Q_p @ R_p)\n",
        "    return error\n",
        "  else:\n",
        "    Q_i, R_i = hauseholder_qr(init_matrix)\n",
        "    Q_p, R_p = hauseholder_qr(pert_matrix)\n",
        "    error = np.linalg.norm(Q_i @ R_i - Q_p @ R_p)\n",
        "    return error\n",
        "\n",
        "N = 100\n",
        "N_arr = np.array([x for x in range(10, N + 10, 10)])\n",
        "G = [[] for _ in range(10, N + 10, 10)]\n",
        "H = [[] for _ in range(10, N + 10, 10)]\n",
        "eps = 1e-3\n",
        "omega = 50\n",
        "iter = 10\n",
        "for n in range(10, N + 10, 10):\n",
        "  max_g, max_h = 0, 0\n",
        "  for i in range(iter):\n",
        "    initial_matrix = np.random.randint(-omega, omega, (n, n))\n",
        "    perturbated_matrix = np.random.randint(-3, 3, (n, n))*eps + initial_matrix\n",
        "\n",
        "    err_g = measure_stability(initial_matrix, perturbated_matrix, gram_mode=1)\n",
        "    err_h = measure_stability(initial_matrix, perturbated_matrix, gram_mode=0)\n",
        "    if err_g > max_g: max_g = err_g\n",
        "    if err_h > max_h: max_h = err_h\n",
        "\n",
        "  G[int(n/10) - 1].append(max_g)\n",
        "  H[int(n/10 - 1)].append(max_h)\n",
        "\n",
        "fig, axs = plt.subplots(figsize=(5, 5))\n",
        "plt.plot(G, N_arr/100, \"-om\", label=\"Gram Schmidt\")\n",
        "plt.plot(H, N_arr/100, \"-xg\", label='Hauseholder')\n",
        "plt.ylabel(\"N/100\")\n",
        "plt.xlabel(\"Error\")\n",
        "plt.legend()\n",
        "plt.show()\n"
      ],
      "metadata": {
        "id": "QLy_4VfK-GNK",
        "colab": {
          "base_uri": "https://localhost:8080/",
          "height": 465
        },
        "outputId": "542773f3-25bc-46a8-e4d3-167036d690cd"
      },
      "execution_count": 26,
      "outputs": [
        {
          "output_type": "display_data",
          "data": {
            "text/plain": [
              "<Figure size 500x500 with 1 Axes>"
            ],
            "image/png": "[encoded data removed]"
          },
          "metadata": {}
        }
      ]
    },
    {
      "cell_type": "markdown",
      "source": [
        "# Multihreading"
      ],
      "metadata": {
        "collapsed": false,
        "id": "GIFPLOSGiyDU"
      }
    },
    {
      "cell_type": "code",
      "execution_count": 27,
      "outputs": [],
      "source": [
        "import threading"
      ],
      "metadata": {
        "ExecuteTime": {
          "end_time": "2023-06-06T15:46:15.934355500Z",
          "start_time": "2023-06-06T15:46:14.845746200Z"
        },
        "id": "oBEQlorXiyDU"
      }
    },
    {
      "cell_type": "code",
      "execution_count": 28,
      "outputs": [
        {
          "output_type": "error",
          "ename": "SyntaxError",
          "evalue": "ignored",
          "traceback": [
            "\u001b[0;36m  File \u001b[0;32m\"<ipython-input-28-02a5b311f145>\"\u001b[0;36m, line \u001b[0;32m43\u001b[0m\n\u001b[0;31m    for i in range(num_of_threads):\u001b[0m\n\u001b[0m                                   ^\u001b[0m\n\u001b[0;31mSyntaxError\u001b[0m\u001b[0;31m:\u001b[0m incomplete input\n"
          ]
        }
      ],
      "source": [
        "cache = {}\n",
        "\n",
        "def column(a: np.array, i: int) -> np.array:\n",
        "    return np.array([x[i] for x in a])\n",
        "\n",
        "def row(a: np.array, i: int) -> np.array:\n",
        "    return a[i]\n",
        "\n",
        "def dot(a: np.array, b: np.array, i: int) -> np.array:\n",
        "    if isinstance(b, list):\n",
        "        result = [0] * len(b)\n",
        "        for j, data in enumerate(b):\n",
        "            result[j] = dot(a, data, i)\n",
        "        cache[i] = np.array(result)\n",
        "    else:\n",
        "        return np.sum(a * b.T)\n",
        "\n",
        "def dot_product_threaded(a: np.array, b: np.array):\n",
        "    assert a.shape[1] == b.shape[0]\n",
        "    num_of_threads = a.shape[1]\n",
        "    threads = []\n",
        "    global cache\n",
        "    cache = {}\n",
        "    for t in range(num_of_threads):\n",
        "        thread = threading.Thread(\n",
        "            target=dot,\n",
        "            args=(row(a, t), [column(b, i) for i in range(b.shape[1])], t)\n",
        "        )\n",
        "        threads.append(thread)\n",
        "        thread.start()\n",
        "\n",
        "    for thread in threads:\n",
        "        thread.join()\n",
        "\n",
        "    return np.array([cache[i] for i in range(num_of_threads)])\n",
        "\n",
        "def qr_threaded(A: np.array, num_of_threads: int) -> np.array:\n",
        "    n = A.shape[0]\n",
        "    if n < num_of_threads:\n",
        "        print('Number of threads is more than shape of matrix, changing...')\n",
        "        num_of_threads = n\n",
        "    blocks = []\n",
        "    for i in range(num_of_threads):\n"
      ],
      "metadata": {
        "ExecuteTime": {
          "end_time": "2023-06-06T16:08:38.414093100Z",
          "start_time": "2023-06-06T16:08:38.395093200Z"
        },
        "id": "BdausHhhiyDU",
        "colab": {
          "base_uri": "https://localhost:8080/",
          "height": 130
        },
        "outputId": "a1d9688f-d768-4f70-cadb-a1308f9856b3"
      }
    },
    {
      "cell_type": "code",
      "execution_count": null,
      "outputs": [],
      "source": [
        "n = 200\n",
        "matrix_a = np.random.randint(-50, 50, (n, n))\n",
        "matrix_b = np.random.randint(-50, 50, (n, n))\n",
        "matrix_a, matrix_b"
      ],
      "metadata": {
        "ExecuteTime": {
          "end_time": "2023-06-06T16:10:22.641110500Z",
          "start_time": "2023-06-06T16:10:22.583705100Z"
        },
        "id": "HV7CpVlCiyDV"
      }
    },
    {
      "cell_type": "code",
      "execution_count": null,
      "outputs": [],
      "source": [
        "dot_product_threaded(matrix_a, matrix_b)"
      ],
      "metadata": {
        "ExecuteTime": {
          "end_time": "2023-06-06T16:10:25.238581Z",
          "start_time": "2023-06-06T16:10:23.094482800Z"
        },
        "id": "MdObNlfeiyDV"
      }
    },
    {
      "cell_type": "code",
      "execution_count": null,
      "outputs": [],
      "source": [
        "matrix_a @ matrix_b"
      ],
      "metadata": {
        "ExecuteTime": {
          "end_time": "2023-06-06T16:10:25.271720600Z",
          "start_time": "2023-06-06T16:10:25.240456400Z"
        },
        "id": "KihZUZ3ViyDW"
      }
    },
    {
      "cell_type": "code",
      "execution_count": null,
      "outputs": [],
      "source": [
        "def hauseholder_qr_threaded(A):\n",
        "    m, n = A.shape\n",
        "    Q = np.eye(m)\n",
        "    for i in range(n - (m == n)):\n",
        "        H = np.eye(m)\n",
        "        H[i:, i:] = make_householder(A[i:, i])\n",
        "        Q = dot_product_threaded(Q, H)\n",
        "        A = dot_product_threaded(H, A)\n",
        "    return Q, A"
      ],
      "metadata": {
        "ExecuteTime": {
          "end_time": "2023-06-06T16:20:25.321575100Z",
          "start_time": "2023-06-06T16:20:25.299575300Z"
        },
        "id": "WV5GsmPMiyDW"
      }
    },
    {
      "cell_type": "code",
      "execution_count": null,
      "outputs": [],
      "source": [
        "n = 3\n",
        "omega = 50\n",
        "\n",
        "matrix = np.random.randint(-omega, omega, (n, n))"
      ],
      "metadata": {
        "ExecuteTime": {
          "end_time": "2023-06-06T16:21:35.600673Z",
          "start_time": "2023-06-06T16:21:35.584673400Z"
        },
        "id": "KFBXC5IuiyDW"
      }
    },
    {
      "cell_type": "code",
      "execution_count": null,
      "outputs": [],
      "source": [
        "q_t, r_t = hauseholder_qr_threaded(matrix)\n",
        "q, r = hauseholder_qr(matrix)"
      ],
      "metadata": {
        "ExecuteTime": {
          "end_time": "2023-06-06T16:23:30.778001800Z",
          "start_time": "2023-06-06T16:23:30.754000800Z"
        },
        "id": "1ZSXgK8eiyDX"
      }
    },
    {
      "cell_type": "code",
      "execution_count": null,
      "outputs": [],
      "source": [
        "q_t, q"
      ],
      "metadata": {
        "ExecuteTime": {
          "end_time": "2023-06-06T16:23:31.150197300Z",
          "start_time": "2023-06-06T16:23:31.140193100Z"
        },
        "id": "Kjt7ZQOKiyDX"
      }
    }
  ],
  "metadata": {
    "kernelspec": {
      "display_name": "Python 3",
      "language": "python",
      "name": "python3"
    },
    "language_info": {
      "codemirror_mode": {
        "name": "ipython",
        "version": 2
      },
      "file_extension": ".py",
      "mimetype": "text/x-python",
      "name": "python",
      "nbconvert_exporter": "python",
      "pygments_lexer": "ipython2",
      "version": "2.7.6"
    },
    "colab": {
      "provenance": [],
      "include_colab_link": true
    }
  },
  "nbformat": 4,
  "nbformat_minor": 0
}
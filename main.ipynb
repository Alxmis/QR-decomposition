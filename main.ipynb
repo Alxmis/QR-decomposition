{
  "cells": [
    {
      "cell_type": "markdown",
      "metadata": {
        "id": "view-in-github",
        "colab_type": "text"
      },
      "source": [
        "<a href=\"https://colab.research.google.com/github/Alxmis/QR-decomposition/blob/Gram_Schmidt/main.ipynb\" target=\"_parent\"><img src=\"https://colab.research.google.com/assets/colab-badge.svg\" alt=\"Open In Colab\"/></a>"
      ]
    },
    {
      "cell_type": "markdown",
      "source": [
        "# Libraries"
      ],
      "metadata": {
        "collapsed": false,
        "id": "alFpzjOJneaZ"
      }
    },
    {
      "cell_type": "code",
      "execution_count": null,
      "outputs": [],
      "source": [
        "import numpy as np\n",
        "import cmath\n",
        "import math"
      ],
      "metadata": {
        "id": "4KNU0f2Bneag",
        "ExecuteTime": {
          "end_time": "2023-06-06T15:46:14.980649800Z",
          "start_time": "2023-06-06T15:46:14.854906600Z"
        }
      }
    },
    {
      "cell_type": "markdown",
      "source": [
        "# Task for 6-7"
      ],
      "metadata": {
        "collapsed": false,
        "id": "UARiDp2Mneaj"
      }
    },
    {
      "cell_type": "code",
      "execution_count": null,
      "outputs": [],
      "source": [
        "def simple_qr(matrix: np.array) -> np.array:\n",
        "    q, r = np.linalg.qr(matrix)\n",
        "    for _ in range(1_000):\n",
        "        matrix = r @ q\n",
        "        q, r = np.linalg.qr(matrix)\n",
        "    return matrix\n",
        "\n",
        "def get_roots(matrix: np.array) -> np.array:\n",
        "    n = matrix.shape[0]\n",
        "    approximated = np.vstack([simple_qr(matrix), np.zeros(n)])\n",
        "    determinated = approximated.round(5)\n",
        "\n",
        "    roots = np.zeros(n)\n",
        "    i = 0\n",
        "    while i < n:\n",
        "        root = approximated[i][i]\n",
        "        detr = determinated[i+1][i]\n",
        "        if detr == 0:\n",
        "            roots[i] = root\n",
        "        else:\n",
        "            # select block\n",
        "            p = 1\n",
        "            for j in range(i+1, n):\n",
        "                if determinated[j+1][j] == 0:\n",
        "                    break\n",
        "                p += 1\n",
        "            block = approximated[i:i+p+1, i:i+p+1]\n",
        "            # p == 1 -> our target\n",
        "            if p == 1:\n",
        "                D = (block[1][1] + block[0][0])**2 - 4*(block[0][0]*block[1][1]-block[0][1]*block[1][0])\n",
        "                # convert type\n",
        "                if D < 0:\n",
        "                    roots = roots.astype(complex)\n",
        "                    l1 = (block[1][1] + block[0][0] - cmath.sqrt(D))/2\n",
        "                    l2 = (block[1][1] + block[0][0] + cmath.sqrt(D))/2\n",
        "                else:\n",
        "                    l1 = (block[1][1] + block[0][0] - math.sqrt(D))/2\n",
        "                    l2 = (block[1][1] + block[0][0] + math.sqrt(D))/2\n",
        "                roots[i + p - 1] = l1\n",
        "                roots[i + p - 0] = l2\n",
        "            # p != 1 -> not our target\n",
        "            else:\n",
        "                __roots = np.linalg.eigvals(block)\n",
        "                for j in range(p+1):\n",
        "                    roots[i + j] = __roots[j]\n",
        "            print(block)\n",
        "            i += p\n",
        "        i += 1\n",
        "    return roots\n"
      ],
      "metadata": {
        "id": "2tsm-wdineaj",
        "ExecuteTime": {
          "end_time": "2023-06-06T15:46:15.013819200Z",
          "start_time": "2023-06-06T15:46:14.979649800Z"
        }
      }
    },
    {
      "cell_type": "code",
      "execution_count": null,
      "outputs": [
        {
          "output_type": "stream",
          "name": "stdout",
          "text": [
            "Initial matrix:\n",
            "[[-41  46 -28]\n",
            " [-40 -18 -19]\n",
            " [ 20 -25  26]]\n",
            "Approximated matrix:\n",
            "[[-30.56708 -31.16149   3.78391]\n",
            " [ 43.43395 -18.54601 -64.47638]\n",
            " [  0.        0.       16.11309]]\n",
            "[[-30.5670826  -31.16148562]\n",
            " [ 43.43394944 -18.54601004]]\n",
            "Function`s roots:\n",
            "[-24.55654632-36.2951766j -24.55654632+36.2951766j\n",
            "  16.11309264 +0.j       ]\n",
            "True eigenvalues:\n",
            "[ 16.11309264 +0.j        -24.55654632+36.2951766j\n",
            " -24.55654632-36.2951766j]\n"
          ]
        }
      ],
      "source": [
        "n = 3\n",
        "omega = 50\n",
        "\n",
        "matrix = np.random.randint(-omega, omega, (n, n))\n",
        "print(f\"Initial matrix:\\n{matrix}\")\n",
        "approximated_matrix = simple_qr(matrix)\n",
        "print(f\"Approximated matrix:\\n{approximated_matrix.round(5)}\")\n",
        "roots = get_roots(matrix)\n",
        "print(f\"Function`s roots:\\n{roots}\")\n",
        "eigen = np.linalg.eigvals(matrix)\n",
        "print(f\"True eigenvalues:\\n{eigen}\")"
      ],
      "metadata": {
        "colab": {
          "base_uri": "https://localhost:8080/"
        },
        "id": "fH1rnL5Hneak",
        "outputId": "e3e261d9-611d-445d-aa83-d0ad6578c869",
        "ExecuteTime": {
          "end_time": "2023-06-06T15:46:15.108823300Z",
          "start_time": "2023-06-06T15:46:15.011819200Z"
        }
      }
    },
    {
      "cell_type": "markdown",
      "source": [
        "# Task for 8"
      ],
      "metadata": {
        "collapsed": false,
        "id": "Qa0Ks2x1neam"
      }
    },
    {
      "cell_type": "code",
      "execution_count": null,
      "outputs": [],
      "source": [
        "def hauseholder_qr(A):\n",
        "    m, n = A.shape\n",
        "    Q = np.eye(m)\n",
        "    for i in range(n - (m == n)):\n",
        "        H = np.eye(m)\n",
        "        H[i:, i:] = make_householder(A[i:, i])\n",
        "        Q = np.dot(Q, H)\n",
        "        A = np.dot(H, A)\n",
        "    return Q, A\n",
        "\n",
        "def make_householder(a):\n",
        "    v = a / (a[0] + np.copysign(np.linalg.norm(a), a[0]))\n",
        "    v[0] = 1\n",
        "    H = np.eye(a.shape[0])\n",
        "    H -= (2 / np.dot(v, v)) * np.dot(v[:, None], v[None, :])\n",
        "    return H"
      ],
      "metadata": {
        "id": "hmsyBjoFneam",
        "ExecuteTime": {
          "end_time": "2023-06-06T15:46:15.159823600Z",
          "start_time": "2023-06-06T15:46:15.106823900Z"
        }
      }
    },
    {
      "cell_type": "code",
      "execution_count": null,
      "outputs": [],
      "source": [
        "q_h, r_h = hauseholder_qr(matrix)\n",
        "q, r = np.linalg.qr(matrix)"
      ],
      "metadata": {
        "id": "FPYAaOrGneam",
        "ExecuteTime": {
          "end_time": "2023-06-06T15:46:15.217587500Z",
          "start_time": "2023-06-06T15:46:15.153823500Z"
        }
      }
    },
    {
      "cell_type": "code",
      "execution_count": null,
      "outputs": [
        {
          "output_type": "stream",
          "name": "stdout",
          "text": [
            "Householder\n",
            "Q:[[-0.67577317  0.57087847  0.46629217]\n",
            " [-0.6592909  -0.75102561 -0.0360005 ]\n",
            " [ 0.32964545 -0.33175035  0.88389795]]\n",
            "R:[[ 6.06712452e+01 -2.74594661e+01  4.00189577e+01]\n",
            " [ 3.69360253e-15  4.80726297e+01 -1.03406198e+01]\n",
            " [ 1.28600402e-15 -1.93196768e-15  1.06091754e+01]]\n",
            "Numpy\n",
            "Q:[[-0.67577317  0.57087847  0.46629217]\n",
            " [-0.6592909  -0.75102561 -0.0360005 ]\n",
            " [ 0.32964545 -0.33175035  0.88389795]]\n",
            "R:[[ 60.67124525 -27.45946606  40.01895775]\n",
            " [  0.          48.07262967 -10.34061983]\n",
            " [  0.           0.          10.60917539]]\n"
          ]
        }
      ],
      "source": [
        "print(f'Householder\\nQ:{q_h}\\nR:{r_h}')\n",
        "print(f'Numpy\\nQ:{q}\\nR:{r}')"
      ],
      "metadata": {
        "id": "voJOSiECnean",
        "outputId": "daccd4a5-626f-4a90-cfcc-cc8b4e5283f7",
        "ExecuteTime": {
          "end_time": "2023-06-06T15:46:15.296657400Z",
          "start_time": "2023-06-06T15:46:15.216587400Z"
        },
        "colab": {
          "base_uri": "https://localhost:8080/"
        }
      }
    },
    {
      "cell_type": "code",
      "execution_count": null,
      "outputs": [
        {
          "output_type": "execute_result",
          "data": {
            "text/plain": [
              "(array([[ True,  True,  True],\n",
              "        [ True,  True,  True],\n",
              "        [ True,  True,  True]]),\n",
              " array([[ True,  True,  True],\n",
              "        [ True,  True,  True],\n",
              "        [ True,  True,  True]]))"
            ]
          },
          "metadata": {},
          "execution_count": 19
        }
      ],
      "source": [
        "q_h.round(5) == q.round(5), r_h.round(5) == r.round(5)"
      ],
      "metadata": {
        "id": "rzTeBGG5nean",
        "outputId": "0a830268-83e3-4458-ee7f-e7bdeea612b5",
        "ExecuteTime": {
          "end_time": "2023-06-06T15:46:15.360657800Z",
          "start_time": "2023-06-06T15:46:15.297657300Z"
        },
        "colab": {
          "base_uri": "https://localhost:8080/"
        }
      }
    },
    {
      "cell_type": "markdown",
      "source": [
        "# Task for 10 Splines"
      ],
      "metadata": {
        "id": "j4SJKSRnvejJ"
      }
    },
    {
      "cell_type": "code",
      "source": [
        "''' Libraries '''\n",
        "import numpy as np\n",
        "import matplotlib.pyplot as plt\n",
        "from sympy import poly\n",
        "from sympy.abc import x\n",
        "import scipy\n",
        "EPS = 1e-2"
      ],
      "metadata": {
        "id": "1UD97TYJviea"
      },
      "execution_count": 1,
      "outputs": []
    },
    {
      "cell_type": "code",
      "source": [
        "''' Subfunctions '''\n",
        "\n",
        "def TDMA(M, B, n):\n",
        "    coeff = np.array([[0 for _ in range(2)] for i in range(n)], dtype=float)\n",
        "    root = np.array([0 for _ in range(n)], dtype=float)\n",
        "    temp_y = np.array([0 for _ in range(n)], dtype=float)\n",
        "\n",
        "    for i in range(n):\n",
        "        if i == 0:\n",
        "            temp_y[i] = M[i][i]\n",
        "            coeff[i][0] = -M[i][1] / temp_y[i]\n",
        "            coeff[i][1] = B[i] / temp_y[i]\n",
        "            continue\n",
        "        elif i == n - 1:\n",
        "            temp_y[i] = M[i][i] + M[i][i - 1] * coeff[i - 1][0]\n",
        "            coeff[i][1] = (B[i] - M[i][i - 1] * coeff[i - 1][1]) / temp_y[i]\n",
        "            continue\n",
        "        temp_y[i] = M[i][i] + M[i][i - 1] * coeff[i - 1][0]\n",
        "        coeff[i][0] = -M[i][i + 1] / temp_y[i]\n",
        "        coeff[i][1] = (B[i] - M[i][i - 1] * coeff[i - 1][1]) / temp_y[i]\n",
        "\n",
        "    for i in range(n - 1, 0 - 1, -1):\n",
        "        if i == n - 1:\n",
        "            root[i] = coeff[i][1]\n",
        "            continue\n",
        "        root[i] = coeff[i][0] * root[i + 1] + coeff[i][1]\n",
        "\n",
        "    return root\n",
        "\n",
        "def get_gammas(X, Y, G, n):\n",
        "    for i in range(n - 2):\n",
        "        for j in range(n - 2):\n",
        "            if j == i - 1 or j == i + 1:\n",
        "                G[i][j] = (X[i + 1] - X[i]) / 6.0\n",
        "            elif j == i:\n",
        "                G[i][j] = ((X[i + 1] - X[i]) + (X[i + 2] - X[i + 1])) / 3.0\n",
        "            else:\n",
        "                G[i][j] = 0\n",
        "\n",
        "    B = np.array([0 for _ in range(n - 2)], dtype=float)\n",
        "    for i in range(n - 2):\n",
        "        B[i] = ((Y[i + 2] - Y[i + 1]) / (X[i + 2] - X[i + 1])) \\\n",
        "               - ((Y[i + 1] - Y[i]) / (X[i + 1] - X[i]))\n",
        "\n",
        "    temp_gammas = TDMA(G, B, n - 2)\n",
        "    gammas = np.array([0 for _ in range(n)], dtype=float)\n",
        "    gammas[0], gammas[n - 1] = g0, gn\n",
        "    for i in range(1, n - 1):\n",
        "        gammas[i] = temp_gammas[i - 1]\n",
        "\n",
        "    return gammas\n",
        "\n",
        "def get_point(X, Y, gammas, x0, i):\n",
        "    G = gammas\n",
        "    w = X[i + 1] - X[i]\n",
        "    return Y[i] * ((X[i + 1] - x0) / w) \\\n",
        "            + Y[i + 1] * ((x0 - X[i]) / w) \\\n",
        "            + G[i] * ((X[i + 1] - x0)**3 - w**2 * (X[i + 1] - x0)) / (6.0 * w) \\\n",
        "            + G[i + 1] * ((x0 - X[i])**3 - w**2 * (x0 - X[i])) / (6.0 * w)\n",
        "\n",
        "def get_segment(X, x0, n):\n",
        "    segment = -1\n",
        "    for i in range(n - 1):\n",
        "        if X[i] <= x0 and x0 <= X[i + 1]:\n",
        "            segment = i\n",
        "            break\n",
        "\n",
        "    ''' Error check '''\n",
        "    if segment != - 1:\n",
        "        return segment\n",
        "    else:\n",
        "        exit(2)\n",
        "\n",
        "def get_poly_coeffs(X, Y, gammas, i):\n",
        "    G = gammas\n",
        "    w = X[i + 1] - X[i]\n",
        "    polynom = poly(Y[i] * ((X[i + 1] - x) / w) \\\n",
        "             + Y[i + 1] * ((x - X[i]) / w) \\\n",
        "             + G[i] * ((X[i + 1] - x) ** 3 - w ** 2 * (X[i + 1] - x)) / (6.0 * w) \\\n",
        "             + G[i + 1] * ((x - X[i]) ** 3 - w ** 2 * (x - X[i])) / (6.0 * w), x)\n",
        "    return polynom.all_coeffs()\n",
        "\n",
        "def get_intersection_segments(X1, Y1, X2, Y2, gammas_1, gammas_2, n):\n",
        "    left_boarder, right_boarder = max(X1[0], X2[0]), min(X1[-1], X2[-1])\n",
        "    x0 = left_boarder\n",
        "    segment_1, segment_2 = -1, -1\n",
        "    while x0 < right_boarder:\n",
        "        segment_1 = get_segment(X1, x0, n)\n",
        "        segment_2 = get_segment(X2, x0, n)\n",
        "        if abs(get_point(X1, Y1, gammas_1, x0, segment_1) - get_point(X2, Y2, gammas_2, x0, segment_2)) < EPS:\n",
        "            break\n",
        "\n",
        "        x0 += 0.001\n",
        "\n",
        "    return segment_1, segment_2"
      ],
      "metadata": {
        "id": "SgM9QGASvnOI"
      },
      "execution_count": 4,
      "outputs": []
    },
    {
      "cell_type": "code",
      "source": [
        "''' Main '''\n",
        "\n",
        "''' Reading files '''\n",
        "X1 = np.loadtxt('X1.txt', dtype=float)\n",
        "X2 = np.loadtxt('X2.txt', dtype=float)\n",
        "Y1 = np.loadtxt('Y1.txt', dtype=float)\n",
        "Y2 = np.loadtxt('Y2.txt', dtype=float)\n",
        "n = X1.shape[0] # Points number\n",
        "\n",
        "''' Evaluating gammas '''\n",
        "g0 = gn = 0\n",
        "G = np.array([[0 for _ in range(n - 2)] for i in range(n - 2)], dtype=float) # Gammas matrix\n",
        "gammas_1 = get_gammas(X1, Y1, G, n)\n",
        "gammas_2 = get_gammas(X2, Y2, G, n)\n",
        "\n",
        "\n",
        "''' Getting segments of splines in splines intersection point '''\n",
        "inter_segment_1, inter_segment_2 = get_intersection_segments(X1, Y1, X2, Y2, gammas_1, gammas_2, n)\n",
        "\n",
        "\n",
        "coeffs_1 = np.array(get_poly_coeffs(X2, Y2, gammas_1, inter_segment_1))\n",
        "coeffs_2 = np.array(get_poly_coeffs(X2, Y2, gammas_2, inter_segment_2))\n",
        "coefficients = coeffs_1 - coeffs_2\n",
        "print(coefficients)"
      ],
      "metadata": {
        "colab": {
          "base_uri": "https://localhost:8080/"
        },
        "id": "YXq-jXGRv4su",
        "outputId": "d0470333-ed18-4d04-e481-8ea7260a3b2e"
      },
      "execution_count": 9,
      "outputs": [
        {
          "output_type": "stream",
          "name": "stdout",
          "text": [
            "[0.0906633171015869 -2.95285490685127 22.0864778453629 -46.9026851663330]\n"
          ]
        }
      ]
    },
    {
      "cell_type": "markdown",
      "source": [
        "# Task for 10 Gram_Schmidt"
      ],
      "metadata": {
        "id": "5GFHpSxf46en"
      }
    },
    {
      "cell_type": "code",
      "source": [
        "def gram_orthon(matrix):\n",
        "    M = gram_orthog(matrix)\n",
        "    n_cols = M.shape[1]\n",
        "    for i in range(n_cols):\n",
        "        M[:, i] = M[:, i] / np.linalg.norm(M[:, i])\n",
        "    return M\n",
        "\n",
        "def gram_orthog(matrix):\n",
        "    n_rows, n_cols = matrix.shape\n",
        "    M = np.zeros((n_rows, n_cols))\n",
        "    for i in range(n_cols):\n",
        "        m = matrix[:, i].astype('float64')\n",
        "        for j in range(i):\n",
        "            m -= np.dot(m, M[:, j]) / np.dot(M[:, j], M[:, j]) * M[:, j]\n",
        "        M[:, i] = m\n",
        "    return M\n",
        "\n",
        "def gram_R(matrix, Q):\n",
        "    n_rows, n_cols = matrix.shape\n",
        "    R = np.zeros((n_rows, n_cols))\n",
        "    for j in range(n_cols):\n",
        "        for i in range(j + 1):\n",
        "            R[i, j] = np.dot(Q[:, i], matrix[:, j])\n",
        "    return R\n",
        "\n",
        "def gram_qr(matrix):\n",
        "  Q = gram_orthon(matrix)\n",
        "  R = gram_R(matrix, Q)\n",
        "  return Q, R"
      ],
      "metadata": {
        "id": "5WeLiMameTxt",
        "ExecuteTime": {
          "end_time": "2023-06-06T15:46:15.426133500Z",
          "start_time": "2023-06-06T15:46:15.378132700Z"
        }
      },
      "execution_count": null,
      "outputs": []
    },
    {
      "cell_type": "code",
      "source": [
        "q_g, r_g = gram_qr(matrix)\n",
        "q, r = np.linalg.qr(matrix)"
      ],
      "metadata": {
        "id": "xjre8cMIeZYM",
        "ExecuteTime": {
          "end_time": "2023-06-06T15:46:15.750199300Z",
          "start_time": "2023-06-06T15:46:15.425133900Z"
        }
      },
      "execution_count": null,
      "outputs": []
    },
    {
      "cell_type": "code",
      "source": [
        "print(f'Gram\\nQ:{q_g}\\nR:{r_g}\\nQR:{q_g@r_g}')\n",
        "print(f'Numpy\\nQ:{q}\\nR:{r}\\nqr:{q@r}')"
      ],
      "metadata": {
        "colab": {
          "base_uri": "https://localhost:8080/"
        },
        "id": "_ctkhdQviZwv",
        "outputId": "8f2e73e3-862d-42a5-959a-933129f3d78b",
        "ExecuteTime": {
          "end_time": "2023-06-06T15:46:15.871930700Z",
          "start_time": "2023-06-06T15:46:15.751199Z"
        }
      },
      "execution_count": null,
      "outputs": [
        {
          "output_type": "stream",
          "name": "stdout",
          "text": [
            "Gram\n",
            "Q:[[-0.67577317  0.57087847  0.46629217]\n",
            " [-0.6592909  -0.75102561 -0.0360005 ]\n",
            " [ 0.32964545 -0.33175035  0.88389795]]\n",
            "R:[[ 60.67124525 -27.45946606  40.01895775]\n",
            " [  0.          48.07262967 -10.34061983]\n",
            " [  0.           0.          10.60917539]]\n",
            "QR:[[-41.  46. -28.]\n",
            " [-40. -18. -19.]\n",
            " [ 20. -25.  26.]]\n",
            "Numpy\n",
            "Q:[[-0.67577317  0.57087847  0.46629217]\n",
            " [-0.6592909  -0.75102561 -0.0360005 ]\n",
            " [ 0.32964545 -0.33175035  0.88389795]]\n",
            "R:[[ 60.67124525 -27.45946606  40.01895775]\n",
            " [  0.          48.07262967 -10.34061983]\n",
            " [  0.           0.          10.60917539]]\n",
            "qr:[[-41.  46. -28.]\n",
            " [-40. -18. -19.]\n",
            " [ 20. -25.  26.]]\n"
          ]
        }
      ]
    },
    {
      "cell_type": "markdown",
      "source": [
        "## Stability: Gram Schmidt VS Hauseholder"
      ],
      "metadata": {
        "id": "lBaHQHlB-yoP"
      }
    },
    {
      "cell_type": "code",
      "source": [
        "import matplotlib.pyplot as plt\n",
        "\n",
        "def measure_stability(init_matrix, pert_matrix, gram_mode=1):\n",
        "  if gram_mode == 1:\n",
        "    Q_i, R_i = gram_qr(init_matrix)\n",
        "    Q_p, R_p = gram_qr(pert_matrix)\n",
        "    error = np.linalg.norm(Q_i @ R_i - Q_p @ R_p)\n",
        "    return error\n",
        "  else:\n",
        "    Q_i, R_i = hauseholder_qr(init_matrix)\n",
        "    Q_p, R_p = hauseholder_qr(pert_matrix)\n",
        "    error = np.linalg.norm(Q_i @ R_i - Q_p @ R_p)\n",
        "    return error\n",
        "\n",
        "N = 100\n",
        "N_arr = np.array([x for x in range(10, N + 10, 10)])\n",
        "G = [[] for _ in range(10, N + 10, 10)]\n",
        "H = [[] for _ in range(10, N + 10, 10)]\n",
        "eps = 1e-3\n",
        "omega = 50\n",
        "iter = 10\n",
        "for n in range(10, N + 10, 10):\n",
        "  max_g, max_h = 0, 0\n",
        "  for i in range(iter):\n",
        "    initial_matrix = np.random.randint(-omega, omega, (n, n))\n",
        "    perturbated_matrix = np.random.randint(-3, 3, (n, n))*eps + initial_matrix\n",
        "\n",
        "    err_g = measure_stability(initial_matrix, perturbated_matrix, gram_mode=1)\n",
        "    err_h = measure_stability(initial_matrix, perturbated_matrix, gram_mode=0)\n",
        "    if err_g > max_g: max_g = err_g\n",
        "    if err_h > max_h: max_h = err_h\n",
        "\n",
        "  G[int(n/10) - 1].append(max_g)\n",
        "  H[int(n/10 - 1)].append(max_h)\n",
        "\n",
        "fig, axs = plt.subplots(figsize=(5, 5))\n",
        "plt.plot(G, N_arr/100, \"-om\", label=\"Gram Schmidt\")\n",
        "plt.plot(H, N_arr/100, \"-xg\", label='Hauseholder')\n",
        "plt.ylabel(\"N/100\")\n",
        "plt.xlabel(\"Error\")\n",
        "plt.legend()\n",
        "plt.show()\n"
      ],
      "metadata": {
        "id": "QLy_4VfK-GNK",
        "colab": {
          "base_uri": "https://localhost:8080/",
          "height": 445
        },
        "outputId": "3478cf48-8bda-4bf1-d1bc-4574f070edc2"
      },
      "execution_count": null,
      "outputs": [
        {
          "output_type": "display_data",
          "data": {
            "text/plain": [
              "<Figure size 500x500 with 1 Axes>"
            ],
            "image/png": "[encoded data removed]"
          },
          "metadata": {}
        }
      ]
    },
    {
      "cell_type": "markdown",
      "source": [
        "# Multihreading"
      ],
      "metadata": {
        "collapsed": false,
        "id": "GIFPLOSGiyDU"
      }
    },
    {
      "cell_type": "code",
      "execution_count": null,
      "outputs": [],
      "source": [
        "import threading"
      ],
      "metadata": {
        "ExecuteTime": {
          "end_time": "2023-06-06T15:46:15.934355500Z",
          "start_time": "2023-06-06T15:46:14.845746200Z"
        },
        "id": "oBEQlorXiyDU"
      }
    },
    {
      "cell_type": "code",
      "execution_count": null,
      "outputs": [],
      "source": [
        "cache = {}\n",
        "\n",
        "def column(a: np.array, i: int) -> np.array:\n",
        "    return np.array([x[i] for x in a])\n",
        "\n",
        "def row(a: np.array, i: int) -> np.array:\n",
        "    return a[i]\n",
        "\n",
        "def dot(a: np.array, b: np.array, i: int) -> np.array:\n",
        "    if isinstance(b, list):\n",
        "        result = [0] * len(b)\n",
        "        for j, data in enumerate(b):\n",
        "            result[j] = dot(a, data, i)\n",
        "        cache[i] = np.array(result)\n",
        "    else:\n",
        "        return np.sum(a * b.T)\n",
        "\n",
        "def dot_product_threaded(a: np.array, b: np.array):\n",
        "    assert a.shape[1] == b.shape[0]\n",
        "    num_of_threads = a.shape[1]\n",
        "    threads = []\n",
        "    global cache\n",
        "    cache = {}\n",
        "    for t in range(num_of_threads):\n",
        "        thread = threading.Thread(\n",
        "            target=dot,\n",
        "            args=(row(a, t), [column(b, i) for i in range(b.shape[1])], t)\n",
        "        )\n",
        "        threads.append(thread)\n",
        "        thread.start()\n",
        "\n",
        "    for thread in threads:\n",
        "        thread.join()\n",
        "\n",
        "    return np.array([cache[i] for i in range(num_of_threads)])\n",
        "\n",
        "def qr_threaded(A: np.array, num_of_threads: int) -> np.array:\n",
        "    n = A.shape[0]\n",
        "    if n < num_of_threads:\n",
        "        print('Number of threads is more than shape of matrix, changing...')\n",
        "        num_of_threads = n\n",
        "    blocks = []\n",
        "    for i in range(num_of_threads):\n"
      ],
      "metadata": {
        "ExecuteTime": {
          "end_time": "2023-06-06T16:08:38.414093100Z",
          "start_time": "2023-06-06T16:08:38.395093200Z"
        },
        "id": "BdausHhhiyDU"
      }
    },
    {
      "cell_type": "code",
      "execution_count": null,
      "outputs": [],
      "source": [
        "n = 200\n",
        "matrix_a = np.random.randint(-50, 50, (n, n))\n",
        "matrix_b = np.random.randint(-50, 50, (n, n))\n",
        "matrix_a, matrix_b"
      ],
      "metadata": {
        "ExecuteTime": {
          "end_time": "2023-06-06T16:10:22.641110500Z",
          "start_time": "2023-06-06T16:10:22.583705100Z"
        },
        "id": "HV7CpVlCiyDV"
      }
    },
    {
      "cell_type": "code",
      "execution_count": null,
      "outputs": [],
      "source": [
        "dot_product_threaded(matrix_a, matrix_b)"
      ],
      "metadata": {
        "ExecuteTime": {
          "end_time": "2023-06-06T16:10:25.238581Z",
          "start_time": "2023-06-06T16:10:23.094482800Z"
        },
        "id": "MdObNlfeiyDV"
      }
    },
    {
      "cell_type": "code",
      "execution_count": null,
      "outputs": [],
      "source": [
        "matrix_a @ matrix_b"
      ],
      "metadata": {
        "ExecuteTime": {
          "end_time": "2023-06-06T16:10:25.271720600Z",
          "start_time": "2023-06-06T16:10:25.240456400Z"
        },
        "id": "KihZUZ3ViyDW"
      }
    },
    {
      "cell_type": "code",
      "execution_count": null,
      "outputs": [],
      "source": [
        "def hauseholder_qr_threaded(A):\n",
        "    m, n = A.shape\n",
        "    Q = np.eye(m)\n",
        "    for i in range(n - (m == n)):\n",
        "        H = np.eye(m)\n",
        "        H[i:, i:] = make_householder(A[i:, i])\n",
        "        Q = dot_product_threaded(Q, H)\n",
        "        A = dot_product_threaded(H, A)\n",
        "    return Q, A"
      ],
      "metadata": {
        "ExecuteTime": {
          "end_time": "2023-06-06T16:20:25.321575100Z",
          "start_time": "2023-06-06T16:20:25.299575300Z"
        },
        "id": "WV5GsmPMiyDW"
      }
    },
    {
      "cell_type": "code",
      "execution_count": null,
      "outputs": [],
      "source": [
        "n = 3\n",
        "omega = 50\n",
        "\n",
        "matrix = np.random.randint(-omega, omega, (n, n))"
      ],
      "metadata": {
        "ExecuteTime": {
          "end_time": "2023-06-06T16:21:35.600673Z",
          "start_time": "2023-06-06T16:21:35.584673400Z"
        },
        "id": "KFBXC5IuiyDW"
      }
    },
    {
      "cell_type": "code",
      "execution_count": null,
      "outputs": [],
      "source": [
        "q_t, r_t = hauseholder_qr_threaded(matrix)\n",
        "q, r = hauseholder_qr(matrix)"
      ],
      "metadata": {
        "ExecuteTime": {
          "end_time": "2023-06-06T16:23:30.778001800Z",
          "start_time": "2023-06-06T16:23:30.754000800Z"
        },
        "id": "1ZSXgK8eiyDX"
      }
    },
    {
      "cell_type": "code",
      "execution_count": null,
      "outputs": [],
      "source": [
        "q_t, q"
      ],
      "metadata": {
        "ExecuteTime": {
          "end_time": "2023-06-06T16:23:31.150197300Z",
          "start_time": "2023-06-06T16:23:31.140193100Z"
        },
        "id": "Kjt7ZQOKiyDX"
      }
    },
    {
      "cell_type": "code",
      "execution_count": null,
      "outputs": [],
      "source": [],
      "metadata": {
        "id": "EbSsYdDFiyDX"
      }
    }
  ],
  "metadata": {
    "kernelspec": {
      "display_name": "Python 3",
      "language": "python",
      "name": "python3"
    },
    "language_info": {
      "codemirror_mode": {
        "name": "ipython",
        "version": 2
      },
      "file_extension": ".py",
      "mimetype": "text/x-python",
      "name": "python",
      "nbconvert_exporter": "python",
      "pygments_lexer": "ipython2",
      "version": "2.7.6"
    },
    "colab": {
      "provenance": [],
      "include_colab_link": true
    }
  },
  "nbformat": 4,
  "nbformat_minor": 0
}
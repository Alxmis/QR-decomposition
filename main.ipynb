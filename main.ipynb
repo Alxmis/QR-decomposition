{
  "cells": [
    {
      "cell_type": "markdown",
      "metadata": {
        "id": "view-in-github",
        "colab_type": "text"
      },
      "source": [
        "<a href=\"https://colab.research.google.com/github/Alxmis/QR-decomposition/blob/Gram_Schmidt-plus-stability/main.ipynb\" target=\"_parent\"><img src=\"https://colab.research.google.com/assets/colab-badge.svg\" alt=\"Open In Colab\"/></a>"
      ]
    },
    {
      "cell_type": "markdown",
      "source": [
        "# Libraries"
      ],
      "metadata": {
        "collapsed": false,
        "id": "alFpzjOJneaZ"
      }
    },
    {
      "cell_type": "code",
      "execution_count": 2,
      "outputs": [],
      "source": [
        "import numpy as np\n",
        "import cmath\n",
        "import math"
      ],
      "metadata": {
        "id": "4KNU0f2Bneag",
        "ExecuteTime": {
          "end_time": "2023-06-06T15:46:14.980649800Z",
          "start_time": "2023-06-06T15:46:14.854906600Z"
        }
      }
    },
    {
      "cell_type": "markdown",
      "source": [
        "# Task for 6-7"
      ],
      "metadata": {
        "collapsed": false,
        "id": "UARiDp2Mneaj"
      }
    },
    {
      "cell_type": "code",
      "execution_count": 3,
      "outputs": [],
      "source": [
        "def simple_qr(matrix: np.array) -> np.array:\n",
        "    q, r = np.linalg.qr(matrix)\n",
        "    for _ in range(1_000):\n",
        "        matrix = r @ q\n",
        "        q, r = np.linalg.qr(matrix)\n",
        "    return matrix\n",
        "\n",
        "def get_roots(matrix: np.array) -> np.array:\n",
        "    n = matrix.shape[0]\n",
        "    approximated = np.vstack([simple_qr(matrix), np.zeros(n)])\n",
        "    determinated = approximated.round(5)\n",
        "\n",
        "    roots = np.zeros(n)\n",
        "    i = 0\n",
        "    while i < n:\n",
        "        root = approximated[i][i]\n",
        "        detr = determinated[i+1][i]\n",
        "        if detr == 0:\n",
        "            roots[i] = root\n",
        "        else:\n",
        "            # select block\n",
        "            p = 1\n",
        "            for j in range(i+1, n):\n",
        "                if determinated[j+1][j] == 0:\n",
        "                    break\n",
        "                p += 1\n",
        "            block = approximated[i:i+p+1, i:i+p+1]\n",
        "            # p == 1 -> our target\n",
        "            if p == 1:\n",
        "                D = (block[1][1] + block[0][0])**2 - 4*(block[0][0]*block[1][1]-block[0][1]*block[1][0])\n",
        "                # convert type\n",
        "                if D < 0:\n",
        "                    roots = roots.astype(complex)\n",
        "                    l1 = (block[1][1] + block[0][0] - cmath.sqrt(D))/2\n",
        "                    l2 = (block[1][1] + block[0][0] + cmath.sqrt(D))/2\n",
        "                else:\n",
        "                    l1 = (block[1][1] + block[0][0] - math.sqrt(D))/2\n",
        "                    l2 = (block[1][1] + block[0][0] + math.sqrt(D))/2\n",
        "                roots[i + p - 1] = l1\n",
        "                roots[i + p - 0] = l2\n",
        "            # p != 1 -> not our target\n",
        "            else:\n",
        "                __roots = np.linalg.eigvals(block)\n",
        "                for j in range(p+1):\n",
        "                    roots[i + j] = __roots[j]\n",
        "            print(block)\n",
        "            i += p\n",
        "        i += 1\n",
        "    return roots\n"
      ],
      "metadata": {
        "id": "2tsm-wdineaj",
        "ExecuteTime": {
          "end_time": "2023-06-06T15:46:15.013819200Z",
          "start_time": "2023-06-06T15:46:14.979649800Z"
        }
      }
    },
    {
      "cell_type": "code",
      "execution_count": 4,
      "outputs": [
        {
          "output_type": "stream",
          "name": "stdout",
          "text": [
            "Initial matrix:\n",
            "[[-19  32 -36]\n",
            " [-10 -24  36]\n",
            " [-31  32 -26]]\n",
            "Approximated matrix:\n",
            "[[-73.3012   14.38032 -27.60644]\n",
            " [  0.       10.10935  28.91523]\n",
            " [  0.       -0.       -5.80815]]\n",
            "Function`s roots:\n",
            "[-73.30120314  10.10935287  -5.80814973]\n",
            "True eigenvalues:\n",
            "[ 10.10935287  -5.80814973 -73.30120314]\n"
          ]
        }
      ],
      "source": [
        "n = 3\n",
        "omega = 50\n",
        "\n",
        "matrix = np.random.randint(-omega, omega, (n, n))\n",
        "print(f\"Initial matrix:\\n{matrix}\")\n",
        "approximated_matrix = simple_qr(matrix)\n",
        "print(f\"Approximated matrix:\\n{approximated_matrix.round(5)}\")\n",
        "roots = get_roots(matrix)\n",
        "print(f\"Function`s roots:\\n{roots}\")\n",
        "eigen = np.linalg.eigvals(matrix)\n",
        "print(f\"True eigenvalues:\\n{eigen}\")"
      ],
      "metadata": {
        "colab": {
          "base_uri": "https://localhost:8080/"
        },
        "id": "fH1rnL5Hneak",
        "outputId": "12b9bf40-82ed-42f8-fc07-9710a97a51a5",
        "ExecuteTime": {
          "end_time": "2023-06-06T15:46:15.108823300Z",
          "start_time": "2023-06-06T15:46:15.011819200Z"
        }
      }
    },
    {
      "cell_type": "markdown",
      "source": [
        "# Task for 8"
      ],
      "metadata": {
        "collapsed": false,
        "id": "Qa0Ks2x1neam"
      }
    },
    {
      "cell_type": "code",
      "execution_count": 5,
      "outputs": [],
      "source": [
        "def hauseholder_qr(A):\n",
        "    m, n = A.shape\n",
        "    Q = np.eye(m)\n",
        "    for i in range(n - (m == n)):\n",
        "        H = np.eye(m)\n",
        "        H[i:, i:] = make_householder(A[i:, i])\n",
        "        Q = np.dot(Q, H)\n",
        "        A = np.dot(H, A)\n",
        "    return Q, A\n",
        "\n",
        "def make_householder(a):\n",
        "    v = a / (a[0] + np.copysign(np.linalg.norm(a), a[0]))\n",
        "    v[0] = 1\n",
        "    H = np.eye(a.shape[0])\n",
        "    H -= (2 / np.dot(v, v)) * np.dot(v[:, None], v[None, :])\n",
        "    return H"
      ],
      "metadata": {
        "id": "hmsyBjoFneam",
        "ExecuteTime": {
          "end_time": "2023-06-06T15:46:15.159823600Z",
          "start_time": "2023-06-06T15:46:15.106823900Z"
        }
      }
    },
    {
      "cell_type": "code",
      "execution_count": 6,
      "outputs": [],
      "source": [
        "q_h, r_h = hauseholder_qr(matrix)\n",
        "q, r = np.linalg.qr(matrix)"
      ],
      "metadata": {
        "id": "FPYAaOrGneam",
        "ExecuteTime": {
          "end_time": "2023-06-06T15:46:15.217587500Z",
          "start_time": "2023-06-06T15:46:15.153823500Z"
        }
      }
    },
    {
      "cell_type": "code",
      "execution_count": 7,
      "outputs": [
        {
          "output_type": "stream",
          "name": "stdout",
          "text": [
            "Householder\n",
            "Q:[[-0.50385295  0.38014006 -0.77564537]\n",
            " [-0.26518576 -0.92266706 -0.27993216]\n",
            " [-0.82207586  0.06464546  0.56569625]]\n",
            "R:[[ 3.77094153e+01 -3.60652635e+01  2.99659910e+01]\n",
            " [-4.29692139e-16  3.63771462e+01 -4.85818383e+01]\n",
            " [-3.42748541e-15  5.14672153e-16  3.13757300e+00]]\n",
            "Numpy\n",
            "Q:[[-0.50385295  0.38014006 -0.77564537]\n",
            " [-0.26518576 -0.92266706 -0.27993216]\n",
            " [-0.82207586  0.06464546  0.56569625]]\n",
            "R:[[ 37.70941527 -36.06526355  29.96599104]\n",
            " [  0.          36.37714619 -48.58183834]\n",
            " [  0.           0.           3.137573  ]]\n"
          ]
        }
      ],
      "source": [
        "print(f'Householder\\nQ:{q_h}\\nR:{r_h}')\n",
        "print(f'Numpy\\nQ:{q}\\nR:{r}')"
      ],
      "metadata": {
        "id": "voJOSiECnean",
        "outputId": "7250305a-1502-4bd6-ac79-cc3607c13252",
        "ExecuteTime": {
          "end_time": "2023-06-06T15:46:15.296657400Z",
          "start_time": "2023-06-06T15:46:15.216587400Z"
        },
        "colab": {
          "base_uri": "https://localhost:8080/"
        }
      }
    },
    {
      "cell_type": "code",
      "execution_count": 8,
      "outputs": [
        {
          "output_type": "execute_result",
          "data": {
            "text/plain": [
              "(array([[ True,  True,  True],\n",
              "        [ True,  True,  True],\n",
              "        [ True,  True,  True]]),\n",
              " array([[ True,  True,  True],\n",
              "        [ True,  True,  True],\n",
              "        [ True,  True,  True]]))"
            ]
          },
          "metadata": {},
          "execution_count": 8
        }
      ],
      "source": [
        "q_h.round(5) == q.round(5), r_h.round(5) == r.round(5)"
      ],
      "metadata": {
        "id": "rzTeBGG5nean",
        "outputId": "cef8ed67-b4da-4ce4-fac5-da61a0aa7cd9",
        "ExecuteTime": {
          "end_time": "2023-06-06T15:46:15.360657800Z",
          "start_time": "2023-06-06T15:46:15.297657300Z"
        },
        "colab": {
          "base_uri": "https://localhost:8080/"
        }
      }
    },
    {
      "cell_type": "markdown",
      "source": [
        "# Task for 10 Gram_Schmidt"
      ],
      "metadata": {
        "id": "5GFHpSxf46en"
      }
    },
    {
      "cell_type": "code",
      "source": [
        "def gram_orthon(matrix):\n",
        "    M = gram_orthog(matrix)\n",
        "    n_cols = M.shape[1]\n",
        "    for i in range(n_cols):\n",
        "        M[:, i] = M[:, i] / np.linalg.norm(M[:, i])\n",
        "    return M\n",
        "\n",
        "def gram_orthog(matrix):\n",
        "    n_rows, n_cols = matrix.shape\n",
        "    M = np.zeros((n_rows, n_cols))\n",
        "    for i in range(n_cols):\n",
        "        m = matrix[:, i].astype('float64')\n",
        "        for j in range(i):\n",
        "            m -= np.dot(m, M[:, j]) / np.dot(M[:, j], M[:, j]) * M[:, j]\n",
        "        M[:, i] = m\n",
        "    return M\n",
        "\n",
        "def gram_R(matrix, Q):\n",
        "    n_rows, n_cols = matrix.shape\n",
        "    R = np.zeros((n_rows, n_cols))\n",
        "    for j in range(n_cols):\n",
        "        for i in range(j + 1):\n",
        "            R[i, j] = np.dot(Q[:, i], matrix[:, j])\n",
        "    return R\n",
        "\n",
        "def gram_qr(matrix):\n",
        "  Q = gram_orthon(matrix)\n",
        "  R = gram_R(matrix, Q)\n",
        "  return Q, R"
      ],
      "metadata": {
        "id": "5WeLiMameTxt",
        "ExecuteTime": {
          "end_time": "2023-06-06T15:46:15.426133500Z",
          "start_time": "2023-06-06T15:46:15.378132700Z"
        }
      },
      "execution_count": 9,
      "outputs": []
    },
    {
      "cell_type": "code",
      "source": [
        "q_g, r_g = gram_qr(matrix)\n",
        "q, r = np.linalg.qr(matrix)"
      ],
      "metadata": {
        "id": "xjre8cMIeZYM",
        "ExecuteTime": {
          "end_time": "2023-06-06T15:46:15.750199300Z",
          "start_time": "2023-06-06T15:46:15.425133900Z"
        }
      },
      "execution_count": 10,
      "outputs": []
    },
    {
      "cell_type": "code",
      "source": [
        "print(f'Gram\\nQ:{q_g}\\nR:{r_g}\\nQR:{q_g@r_g}')\n",
        "print(f'Numpy\\nQ:{q}\\nR:{r}\\nqr:{q@r}')"
      ],
      "metadata": {
        "colab": {
          "base_uri": "https://localhost:8080/"
        },
        "id": "_ctkhdQviZwv",
        "outputId": "c0595eb1-c246-483c-b0fb-cc9a65dead2a",
        "ExecuteTime": {
          "end_time": "2023-06-06T15:46:15.871930700Z",
          "start_time": "2023-06-06T15:46:15.751199Z"
        }
      },
      "execution_count": 11,
      "outputs": [
        {
          "output_type": "stream",
          "name": "stdout",
          "text": [
            "Gram\n",
            "Q:[[-0.50385295  0.38014006 -0.77564537]\n",
            " [-0.26518576 -0.92266706 -0.27993216]\n",
            " [-0.82207586  0.06464546  0.56569625]]\n",
            "R:[[ 37.70941527 -36.06526355  29.96599104]\n",
            " [  0.          36.37714619 -48.58183834]\n",
            " [  0.           0.           3.137573  ]]\n",
            "QR:[[-19.  32. -36.]\n",
            " [-10. -24.  36.]\n",
            " [-31.  32. -26.]]\n",
            "Numpy\n",
            "Q:[[-0.50385295  0.38014006 -0.77564537]\n",
            " [-0.26518576 -0.92266706 -0.27993216]\n",
            " [-0.82207586  0.06464546  0.56569625]]\n",
            "R:[[ 37.70941527 -36.06526355  29.96599104]\n",
            " [  0.          36.37714619 -48.58183834]\n",
            " [  0.           0.           3.137573  ]]\n",
            "qr:[[-19.  32. -36.]\n",
            " [-10. -24.  36.]\n",
            " [-31.  32. -26.]]\n"
          ]
        }
      ]
    },
    {
      "cell_type": "markdown",
      "source": [
        "## Stability: Gram Schmidt VS Hauseholder"
      ],
      "metadata": {
        "id": "lBaHQHlB-yoP"
      }
    },
    {
      "cell_type": "code",
      "source": [
        "n = 100\n",
        "n_iter = 100\n",
        "max_diff = 0.0\n",
        "\n",
        "def measure_stability(A, Q, R):\n",
        "    matrix = Q @ R\n",
        "    error = np.linalg.norm(A - matrix)\n",
        "    return error\n",
        "\n",
        "for _ in range(n_iter):\n",
        "  matrix = np.random.rand(n, n)\n",
        "  Q_g, R_g = gram_qr(matrix)\n",
        "  Q_h, R_h = hauseholder_qr(matrix)\n",
        "\n",
        "  error_g = measure_stability(matrix, Q_g, R_g)\n",
        "  error_h = measure_stability(matrix, Q_h, R_h)\n",
        "  diff = np.absolute(error_g - error_h)\n",
        "  max_diff = max(max_diff, diff)\n",
        "\n",
        "print(f'Stability difference: {max_diff}') "
      ],
      "metadata": {
        "colab": {
          "base_uri": "https://localhost:8080/"
        },
        "id": "O-4UxzkBDtAK",
        "outputId": "8ee7d7d6-4472-4bef-ec8a-1daeef53ee50"
      },
      "execution_count": 12,
      "outputs": [
        {
          "output_type": "stream",
          "name": "stdout",
          "text": [
            "Stability difference: 4.913488165727571e-12\n"
          ]
        }
      ]
    },
    {
      "cell_type": "code",
      "source": [
        "n = 1000\n",
        "matrix = np.random.rand(n, n)\n",
        "eps = 1e-6\n",
        "E = matrix * eps\n",
        "matrix_per = matrix + E\n",
        "\n",
        "def err_gram(matrix, matrix_per):\n",
        "  Q, R = gram_qr(matrix)\n",
        "  Q_p, R_p = gram_qr(matrix_per)\n",
        "  err = np.linalg.norm(Q @ R - Q_p @ R_p)\n",
        "  return err\n",
        "\n",
        "def err_hause(matrix, matrix_per):\n",
        "  Q, R = hauseholder_qr(matrix)\n",
        "  Q_p, R_p = hauseholder_qr(matrix_per)\n",
        "  err = np.linalg.norm(Q @ R - Q_p @ R_p)\n",
        "  return err\n",
        "\n",
        "print(f'Matrix: {matrix}')\n",
        "print(f'Relative error for Gram Schmidt: {err_gram(matrix, matrix_per)}')\n",
        "print(f'Relative error for Householder: {err_hause(matrix, matrix_per)}')"
      ],
      "metadata": {
        "id": "pCSZCl7RS1Ql",
        "colab": {
          "base_uri": "https://localhost:8080/",
          "height": 397
        },
        "outputId": "a408a9cb-1956-430c-e835-07c30201c7a3"
      },
      "execution_count": 13,
      "outputs": [
        {
          "output_type": "stream",
          "name": "stdout",
          "text": [
            "Matrix: [[0.17883353 0.27839761 0.42543934 ... 0.94963851 0.04385854 0.1134357 ]\n",
            " [0.65019235 0.06288248 0.58694736 ... 0.81986434 0.26763939 0.90305205]\n",
            " [0.17469352 0.99946095 0.6623561  ... 0.20195715 0.98122658 0.34992331]\n",
            " ...\n",
            " [0.87235948 0.44573769 0.49509575 ... 0.83678306 0.10941964 0.97221122]\n",
            " [0.63403661 0.23300964 0.80521567 ... 0.24472522 0.31307044 0.09402031]\n",
            " [0.40491892 0.31161027 0.90829015 ... 0.65725319 0.52532542 0.88642468]]\n",
            "Relative error for Gram Schmidt: 0.0005769124752955424\n"
          ]
        },
        {
          "output_type": "error",
          "ename": "KeyboardInterrupt",
          "evalue": "ignored",
          "traceback": [
            "\u001b[0;31m---------------------------------------------------------------------------\u001b[0m",
            "\u001b[0;31mKeyboardInterrupt\u001b[0m                         Traceback (most recent call last)",
            "\u001b[0;32m<ipython-input-13-134955ac4b7b>\u001b[0m in \u001b[0;36m<cell line: 21>\u001b[0;34m()\u001b[0m\n\u001b[1;32m     19\u001b[0m \u001b[0mprint\u001b[0m\u001b[0;34m(\u001b[0m\u001b[0;34mf'Matrix: {matrix}'\u001b[0m\u001b[0;34m)\u001b[0m\u001b[0;34m\u001b[0m\u001b[0;34m\u001b[0m\u001b[0m\n\u001b[1;32m     20\u001b[0m \u001b[0mprint\u001b[0m\u001b[0;34m(\u001b[0m\u001b[0;34mf'Relative error for Gram Schmidt: {err_gram(matrix, matrix_per)}'\u001b[0m\u001b[0;34m)\u001b[0m\u001b[0;34m\u001b[0m\u001b[0;34m\u001b[0m\u001b[0m\n\u001b[0;32m---> 21\u001b[0;31m \u001b[0mprint\u001b[0m\u001b[0;34m(\u001b[0m\u001b[0;34mf'Relative error for Householder: {err_hause(matrix, matrix_per)}'\u001b[0m\u001b[0;34m)\u001b[0m\u001b[0;34m\u001b[0m\u001b[0;34m\u001b[0m\u001b[0m\n\u001b[0m",
            "\u001b[0;32m<ipython-input-13-134955ac4b7b>\u001b[0m in \u001b[0;36merr_hause\u001b[0;34m(matrix, matrix_per)\u001b[0m\n\u001b[1;32m     12\u001b[0m \u001b[0;34m\u001b[0m\u001b[0m\n\u001b[1;32m     13\u001b[0m \u001b[0;32mdef\u001b[0m \u001b[0merr_hause\u001b[0m\u001b[0;34m(\u001b[0m\u001b[0mmatrix\u001b[0m\u001b[0;34m,\u001b[0m \u001b[0mmatrix_per\u001b[0m\u001b[0;34m)\u001b[0m\u001b[0;34m:\u001b[0m\u001b[0;34m\u001b[0m\u001b[0;34m\u001b[0m\u001b[0m\n\u001b[0;32m---> 14\u001b[0;31m   \u001b[0mQ\u001b[0m\u001b[0;34m,\u001b[0m \u001b[0mR\u001b[0m \u001b[0;34m=\u001b[0m \u001b[0mhauseholder_qr\u001b[0m\u001b[0;34m(\u001b[0m\u001b[0mmatrix\u001b[0m\u001b[0;34m)\u001b[0m\u001b[0;34m\u001b[0m\u001b[0;34m\u001b[0m\u001b[0m\n\u001b[0m\u001b[1;32m     15\u001b[0m   \u001b[0mQ_p\u001b[0m\u001b[0;34m,\u001b[0m \u001b[0mR_p\u001b[0m \u001b[0;34m=\u001b[0m \u001b[0mhauseholder_qr\u001b[0m\u001b[0;34m(\u001b[0m\u001b[0mmatrix_per\u001b[0m\u001b[0;34m)\u001b[0m\u001b[0;34m\u001b[0m\u001b[0;34m\u001b[0m\u001b[0m\n\u001b[1;32m     16\u001b[0m   \u001b[0merr\u001b[0m \u001b[0;34m=\u001b[0m \u001b[0mnp\u001b[0m\u001b[0;34m.\u001b[0m\u001b[0mlinalg\u001b[0m\u001b[0;34m.\u001b[0m\u001b[0mnorm\u001b[0m\u001b[0;34m(\u001b[0m\u001b[0mQ\u001b[0m \u001b[0;34m@\u001b[0m \u001b[0mR\u001b[0m \u001b[0;34m-\u001b[0m \u001b[0mQ_p\u001b[0m \u001b[0;34m@\u001b[0m \u001b[0mR_p\u001b[0m\u001b[0;34m)\u001b[0m\u001b[0;34m\u001b[0m\u001b[0;34m\u001b[0m\u001b[0m\n",
            "\u001b[0;32m<ipython-input-5-a3bb5d834c10>\u001b[0m in \u001b[0;36mhauseholder_qr\u001b[0;34m(A)\u001b[0m\n\u001b[1;32m      5\u001b[0m         \u001b[0mH\u001b[0m \u001b[0;34m=\u001b[0m \u001b[0mnp\u001b[0m\u001b[0;34m.\u001b[0m\u001b[0meye\u001b[0m\u001b[0;34m(\u001b[0m\u001b[0mm\u001b[0m\u001b[0;34m)\u001b[0m\u001b[0;34m\u001b[0m\u001b[0;34m\u001b[0m\u001b[0m\n\u001b[1;32m      6\u001b[0m         \u001b[0mH\u001b[0m\u001b[0;34m[\u001b[0m\u001b[0mi\u001b[0m\u001b[0;34m:\u001b[0m\u001b[0;34m,\u001b[0m \u001b[0mi\u001b[0m\u001b[0;34m:\u001b[0m\u001b[0;34m]\u001b[0m \u001b[0;34m=\u001b[0m \u001b[0mmake_householder\u001b[0m\u001b[0;34m(\u001b[0m\u001b[0mA\u001b[0m\u001b[0;34m[\u001b[0m\u001b[0mi\u001b[0m\u001b[0;34m:\u001b[0m\u001b[0;34m,\u001b[0m \u001b[0mi\u001b[0m\u001b[0;34m]\u001b[0m\u001b[0;34m)\u001b[0m\u001b[0;34m\u001b[0m\u001b[0;34m\u001b[0m\u001b[0m\n\u001b[0;32m----> 7\u001b[0;31m         \u001b[0mQ\u001b[0m \u001b[0;34m=\u001b[0m \u001b[0mnp\u001b[0m\u001b[0;34m.\u001b[0m\u001b[0mdot\u001b[0m\u001b[0;34m(\u001b[0m\u001b[0mQ\u001b[0m\u001b[0;34m,\u001b[0m \u001b[0mH\u001b[0m\u001b[0;34m)\u001b[0m\u001b[0;34m\u001b[0m\u001b[0;34m\u001b[0m\u001b[0m\n\u001b[0m\u001b[1;32m      8\u001b[0m         \u001b[0mA\u001b[0m \u001b[0;34m=\u001b[0m \u001b[0mnp\u001b[0m\u001b[0;34m.\u001b[0m\u001b[0mdot\u001b[0m\u001b[0;34m(\u001b[0m\u001b[0mH\u001b[0m\u001b[0;34m,\u001b[0m \u001b[0mA\u001b[0m\u001b[0;34m)\u001b[0m\u001b[0;34m\u001b[0m\u001b[0;34m\u001b[0m\u001b[0m\n\u001b[1;32m      9\u001b[0m     \u001b[0;32mreturn\u001b[0m \u001b[0mQ\u001b[0m\u001b[0;34m,\u001b[0m \u001b[0mA\u001b[0m\u001b[0;34m\u001b[0m\u001b[0;34m\u001b[0m\u001b[0m\n",
            "\u001b[0;32m/usr/local/lib/python3.10/dist-packages/numpy/core/overrides.py\u001b[0m in \u001b[0;36mdot\u001b[0;34m(*args, **kwargs)\u001b[0m\n",
            "\u001b[0;31mKeyboardInterrupt\u001b[0m: "
          ]
        }
      ]
    },
    {
      "cell_type": "code",
      "source": [
        "import matplotlib.pyplot as plt\n",
        "\n",
        "def measure_stability(init_matrix, pert_matrix, gram_mode=1):\n",
        "  if gram_mode == 1:\n",
        "    Q_i, R_i = gram_qr(init_matrix)\n",
        "    Q_p, R_p = gram_qr(pert_matrix)\n",
        "    error = np.linalg.norm(Q_i @ R_i - Q_p @ R_p)\n",
        "    return error\n",
        "  else:\n",
        "    Q_i, R_i = hauseholder_qr(init_matrix)\n",
        "    Q_p, R_p = hauseholder_qr(pert_matrix)\n",
        "    error = np.linalg.norm(Q_i @ R_i - Q_p @ R_p)\n",
        "    return error\n",
        "\n",
        "# N = 1000\n",
        "N = 100\n",
        "N_arr = np.array([x for x in range(10, N + 10, 10)])\n",
        "G = [[] for _ in range(10, N + 10, 10)]\n",
        "H = [[] for _ in range(10, N + 10, 10)]\n",
        "eps = 1e-3\n",
        "omega = 50\n",
        "iter = 10\n",
        "for n in range(10, N + 10, 10):\n",
        "  max_g, max_h = 0, 0\n",
        "  for i in range(iter):\n",
        "    initial_matrix = np.random.randint(-omega, omega, (n, n))\n",
        "    perturbated_matrix = np.random.randint(-3, 3, (n, n))*eps + initial_matrix\n",
        "    # print(f'iter: {i}, n: {n}')\n",
        "    # print(f'initial: {initial_matrix}')\n",
        "    # print(f'pert: {perturbated_matrix}')\n",
        "    # print()\n",
        "\n",
        "    err_g = measure_stability(initial_matrix, perturbated_matrix, gram_mode=1)\n",
        "    err_h = measure_stability(initial_matrix, perturbated_matrix, gram_mode=0)\n",
        "    if err_g > max_g: max_g = err_g\n",
        "    if err_h > max_h: max_h = err_h\n",
        "    # input()\n",
        "  G[int(n/10) - 1].append(max_g)\n",
        "  H[int(n/10 - 1)].append(max_h)\n",
        "\n",
        "print(G)\n",
        "print(H)\n",
        "\n",
        "\n",
        "fig, axs = plt.subplots(figsize=(5, 5))\n",
        "# axs.set_aspect('equal')\n",
        "plt.plot(G, N_arr/100, \"-om\", label=\"Gram Schmidt\")  \n",
        "plt.plot(H, N_arr/100, \"-xg\", label='Hauseholder')\n",
        "# plt.yticks()\n",
        "plt.ylabel(\"N/100\")\n",
        "plt.legend()\n",
        "plt.show()\n"
      ],
      "metadata": {
        "colab": {
          "base_uri": "https://localhost:8080/",
          "height": 500
        },
        "id": "QLy_4VfK-GNK",
        "outputId": "b7370ed0-450b-455e-ac88-d455c63f5988"
      },
      "execution_count": 15,
      "outputs": [
        {
          "output_type": "stream",
          "name": "stdout",
          "text": [
            "[[0.019416487838933124], [0.03660601043544796], [0.05474486277263136], [0.07212489168102613], [0.09067524469225426], [0.10747092630105909], [0.1256582667395459], [0.14370455803491677], [0.1615054178657619], [0.17854971296533315]]\n",
            "[[0.01941648783895896], [0.03660601043544638], [0.054744862772729976], [0.07212489168109498], [0.09067524469228351], [0.1074709263009815], [0.12565826673961594], [0.1437045580347587], [0.1615054178658414], [0.17854971296534156]]\n"
          ]
        },
        {
          "output_type": "display_data",
          "data": {
            "text/plain": [
              "<Figure size 500x500 with 1 Axes>"
            ],
            "image/png": "[encoded data removed]"
          },
          "metadata": {}
        }
      ]
    },
    {
      "cell_type": "markdown",
      "source": [
        "# Multihreading"
      ],
      "metadata": {
        "collapsed": false,
        "id": "GIFPLOSGiyDU"
      }
    },
    {
      "cell_type": "code",
      "execution_count": null,
      "outputs": [],
      "source": [
        "import threading"
      ],
      "metadata": {
        "ExecuteTime": {
          "end_time": "2023-06-06T15:46:15.934355500Z",
          "start_time": "2023-06-06T15:46:14.845746200Z"
        },
        "id": "oBEQlorXiyDU"
      }
    },
    {
      "cell_type": "code",
      "execution_count": null,
      "outputs": [],
      "source": [
        "cache = {}\n",
        "\n",
        "def column(a: np.array, i: int) -> np.array:\n",
        "    return np.array([x[i] for x in a])\n",
        "\n",
        "def row(a: np.array, i: int) -> np.array:\n",
        "    return a[i]\n",
        "\n",
        "def dot(a: np.array, b: np.array, i: int) -> np.array:\n",
        "    if isinstance(b, list):\n",
        "        result = [0] * len(b)\n",
        "        for j, data in enumerate(b):\n",
        "            result[j] = dot(a, data, i)\n",
        "        cache[i] = np.array(result)\n",
        "    else:\n",
        "        return np.sum(a * b.T)\n",
        "\n",
        "def dot_product_threaded(a: np.array, b: np.array):\n",
        "    assert a.shape[1] == b.shape[0]\n",
        "    num_of_threads = a.shape[1]\n",
        "    threads = []\n",
        "    global cache\n",
        "    cache = {}\n",
        "    for t in range(num_of_threads):\n",
        "        thread = threading.Thread(\n",
        "            target=dot,\n",
        "            args=(row(a, t), [column(b, i) for i in range(b.shape[1])], t)\n",
        "        )\n",
        "        threads.append(thread)\n",
        "        thread.start()\n",
        "\n",
        "    for thread in threads:\n",
        "        thread.join()\n",
        "\n",
        "    return np.array([cache[i] for i in range(num_of_threads)])\n",
        "\n",
        "def qr_threaded(A: np.array, num_of_threads: int) -> np.array:\n",
        "    n = A.shape[0]\n",
        "    if n < num_of_threads:\n",
        "        print('Number of threads is more than shape of matrix, changing...')\n",
        "        num_of_threads = n\n",
        "    blocks = []\n",
        "    for i in range(num_of_threads):\n"
      ],
      "metadata": {
        "ExecuteTime": {
          "end_time": "2023-06-06T16:08:38.414093100Z",
          "start_time": "2023-06-06T16:08:38.395093200Z"
        },
        "id": "BdausHhhiyDU"
      }
    },
    {
      "cell_type": "code",
      "execution_count": null,
      "outputs": [],
      "source": [
        "n = 200\n",
        "matrix_a = np.random.randint(-50, 50, (n, n))\n",
        "matrix_b = np.random.randint(-50, 50, (n, n))\n",
        "matrix_a, matrix_b"
      ],
      "metadata": {
        "ExecuteTime": {
          "end_time": "2023-06-06T16:10:22.641110500Z",
          "start_time": "2023-06-06T16:10:22.583705100Z"
        },
        "id": "HV7CpVlCiyDV"
      }
    },
    {
      "cell_type": "code",
      "execution_count": null,
      "outputs": [],
      "source": [
        "dot_product_threaded(matrix_a, matrix_b)"
      ],
      "metadata": {
        "ExecuteTime": {
          "end_time": "2023-06-06T16:10:25.238581Z",
          "start_time": "2023-06-06T16:10:23.094482800Z"
        },
        "id": "MdObNlfeiyDV"
      }
    },
    {
      "cell_type": "code",
      "execution_count": null,
      "outputs": [],
      "source": [
        "matrix_a @ matrix_b"
      ],
      "metadata": {
        "ExecuteTime": {
          "end_time": "2023-06-06T16:10:25.271720600Z",
          "start_time": "2023-06-06T16:10:25.240456400Z"
        },
        "id": "KihZUZ3ViyDW"
      }
    },
    {
      "cell_type": "code",
      "execution_count": null,
      "outputs": [],
      "source": [
        "def hauseholder_qr_threaded(A):\n",
        "    m, n = A.shape\n",
        "    Q = np.eye(m)\n",
        "    for i in range(n - (m == n)):\n",
        "        H = np.eye(m)\n",
        "        H[i:, i:] = make_householder(A[i:, i])\n",
        "        Q = dot_product_threaded(Q, H)\n",
        "        A = dot_product_threaded(H, A)\n",
        "    return Q, A"
      ],
      "metadata": {
        "ExecuteTime": {
          "end_time": "2023-06-06T16:20:25.321575100Z",
          "start_time": "2023-06-06T16:20:25.299575300Z"
        },
        "id": "WV5GsmPMiyDW"
      }
    },
    {
      "cell_type": "code",
      "execution_count": null,
      "outputs": [],
      "source": [
        "n = 3\n",
        "omega = 50\n",
        "\n",
        "matrix = np.random.randint(-omega, omega, (n, n))"
      ],
      "metadata": {
        "ExecuteTime": {
          "end_time": "2023-06-06T16:21:35.600673Z",
          "start_time": "2023-06-06T16:21:35.584673400Z"
        },
        "id": "KFBXC5IuiyDW"
      }
    },
    {
      "cell_type": "code",
      "execution_count": null,
      "outputs": [],
      "source": [
        "q_t, r_t = hauseholder_qr_threaded(matrix)\n",
        "q, r = hauseholder_qr(matrix)"
      ],
      "metadata": {
        "ExecuteTime": {
          "end_time": "2023-06-06T16:23:30.778001800Z",
          "start_time": "2023-06-06T16:23:30.754000800Z"
        },
        "id": "1ZSXgK8eiyDX"
      }
    },
    {
      "cell_type": "code",
      "execution_count": null,
      "outputs": [],
      "source": [
        "q_t, q"
      ],
      "metadata": {
        "ExecuteTime": {
          "end_time": "2023-06-06T16:23:31.150197300Z",
          "start_time": "2023-06-06T16:23:31.140193100Z"
        },
        "id": "Kjt7ZQOKiyDX"
      }
    },
    {
      "cell_type": "code",
      "execution_count": null,
      "outputs": [],
      "source": [],
      "metadata": {
        "id": "EbSsYdDFiyDX"
      }
    }
  ],
  "metadata": {
    "kernelspec": {
      "display_name": "Python 3",
      "language": "python",
      "name": "python3"
    },
    "language_info": {
      "codemirror_mode": {
        "name": "ipython",
        "version": 2
      },
      "file_extension": ".py",
      "mimetype": "text/x-python",
      "name": "python",
      "nbconvert_exporter": "python",
      "pygments_lexer": "ipython2",
      "version": "2.7.6"
    },
    "colab": {
      "provenance": [],
      "include_colab_link": true
    }
  },
  "nbformat": 4,
  "nbformat_minor": 0
}